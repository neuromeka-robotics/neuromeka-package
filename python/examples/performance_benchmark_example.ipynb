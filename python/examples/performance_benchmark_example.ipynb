{
 "cells": [
  {
   "metadata": {},
   "cell_type": "markdown",
   "source": "## Import Performance Benchmark Package",
   "id": "9c9ecb56ef413246"
  },
  {
   "metadata": {
    "ExecuteTime": {
     "end_time": "2024-07-29T10:28:36.968631Z",
     "start_time": "2024-07-29T10:28:36.957084Z"
    }
   },
   "cell_type": "code",
   "source": [
    "from neuromeka import PerformanceBenchmark\n",
    "\n",
    "step_ip = '192.168.4.104'\n",
    "robot_name = 'Indy7' # Indy7, Indy7v2, Indy7v2-tommy, Indy12v2\n",
    "category = 'joint_motion' # joint_motion, task_motion\n",
    "\n",
    "# Path for making result folder. Details of result will be saved on target_path.\n",
    "target_path = 'C:/Users/chunggeun.kim/Documents/NRMK/5. data/perform_result'\n",
    "\n",
    "pb = PerformanceBenchmark(step_ip, robot_name, category, target_path)"
   ],
   "id": "1d5f3981d3e98441",
   "outputs": [],
   "execution_count": 2
  },
  {
   "metadata": {},
   "cell_type": "markdown",
   "source": [
    "## Performance Benchmark function\n",
    "\n",
    "* `pb.run_program()`\n",
    "* `pb.gen_report_step()`"
   ],
   "id": "ea234c041ad2e5f4"
  },
  {
   "metadata": {},
   "cell_type": "markdown",
   "source": [
    "### Case 1\n",
    "    1. Run joint or task motion on Conty and check RTRecord.csv on STEP (pb.run_program())\n",
    "    2. Load RTRecord.csv and generate report PDF (pb.gen_report_step())"
   ],
   "id": "7d134926f4e11304"
  },
  {
   "metadata": {},
   "cell_type": "code",
   "outputs": [],
   "execution_count": null,
   "source": [
    "pb.run_program()\n",
    "pb.gen_report_step()"
   ],
   "id": "a0687641206b7cab"
  },
  {
   "metadata": {},
   "cell_type": "markdown",
   "source": [
    "### Case 2\n",
    "    1. Already have RTRecord.csv on STEP\n",
    "    2. Load RTRecord.csv and generate report PDF"
   ],
   "id": "5e91db10a7938614"
  },
  {
   "metadata": {},
   "cell_type": "code",
   "outputs": [],
   "execution_count": null,
   "source": "pb.gen_report_step()",
   "id": "4531efeb393189cd"
  }
 ],
 "metadata": {
  "kernelspec": {
   "display_name": "Python 3",
   "language": "python",
   "name": "python3"
  },
  "language_info": {
   "codemirror_mode": {
    "name": "ipython",
    "version": 2
   },
   "file_extension": ".py",
   "mimetype": "text/x-python",
   "name": "python",
   "nbconvert_exporter": "python",
   "pygments_lexer": "ipython2",
   "version": "2.7.6"
  }
 },
 "nbformat": 4,
 "nbformat_minor": 5
}
