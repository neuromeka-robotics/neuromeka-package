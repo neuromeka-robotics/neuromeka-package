{
 "cells": [
  {
   "cell_type": "markdown",
   "id": "27279c22",
   "metadata": {},
   "source": [
    "# Moby GRPC Client"
   ]
  },
  {
   "cell_type": "code",
   "execution_count": 1,
   "id": "2e5239d8",
   "metadata": {},
   "source": [
    "import sys\n",
    "sys.path.append(\"../../python\")\n",
    "\n",
    "from neuromeka.moby import MobyClient\n",
    "import time\n",
    "\n",
    "step_ip = '192.168.214.20'\n",
    "moby = MobyClient(step_ip)"
   ],
   "outputs": []
  },
  {
   "cell_type": "markdown",
   "id": "fd6f4b8b",
   "metadata": {},
   "source": [
    "## Get Moby State"
   ]
  },
  {
   "cell_type": "markdown",
   "id": "41e3ad1b",
   "metadata": {},
   "source": [
    "### get_state\n",
    "- STRING STATE\n",
    "    - status : current moby state\n",
    "    \n",
    "      - |  status     |              description                 |\n",
    "        |:-----------:|------------------------------------------|\n",
    "        | SYSTEM_OFF  | None                                     |\n",
    "        | SYSTEM_ON   | Initialize System and Servo On           |\n",
    "        | IDLE        | Idle State, Wait for command             |\n",
    "        | MOVING      | Drive by move rotation or driving        |\n",
    "        | TELE_OP     | Drive by set_target_vel                  |\n",
    "        | VIOLATE     | get Violation                            |\n",
    "        | RECOVER_SOFT| Recover Error State                      |\n",
    "    \n",
    "- BOOL STATE\n",
    "    - is_ready : ethercat connected and master&slaves operational\n",
    "    - is_enable : all wheel servo on\n",
    "    - is_moving : move(Move, Teleop) state\n",
    "    - is_violation : violation"
   ]
  },
  {
   "cell_type": "code",
   "execution_count": 3,
   "id": "420aba3d",
   "metadata": {},
   "source": [
    "moby.get_moby_state()"
   ],
   "outputs": []
  },
  {
   "cell_type": "markdown",
   "id": "05c461bf",
   "metadata": {},
   "source": [
    "### get_moby_error_state\n",
    "\n",
    "[error state, num, none, none]\n",
    "- error state:\n",
    "\n",
    "                None, SW_MASTER_NOT_OP, SW_SLAVES_NOT_OP, SW_SERVO_NOT_ON,\n",
    "                SW_SERVO_NOT_READY, SW_ENCODER_ABNORMAL, SW_BUMPER_DETECT"
   ]
  },
  {
   "cell_type": "code",
   "execution_count": 4,
   "id": "eb1e17fb",
   "metadata": {},
   "source": [
    "print(moby.get_moby_error_state())"
   ],
   "outputs": []
  },
  {
   "cell_type": "markdown",
   "id": "e54fb718",
   "metadata": {},
   "source": [
    "### recover from error state"
   ]
  },
  {
   "cell_type": "code",
   "execution_count": 20,
   "id": "564f4cc9",
   "metadata": {},
   "source": [
    "moby.recover()"
   ],
   "outputs": []
  },
  {
   "cell_type": "markdown",
   "id": "554a2d42",
   "metadata": {},
   "source": [
    "## Get BMS Data"
   ]
  },
  {
   "cell_type": "markdown",
   "id": "f895f65f",
   "metadata": {},
   "source": [
    "- GreenPyzzle : \n",
    "\n",
    "            'BMS status-1', 'BMS status-2',\n",
    "            'Pack voltage-1', 'Pack voltage-2',\n",
    "            'Battery Voltage-1', 'Battery Voltage-2',\n",
    "            'Pack current1-1', 'Pack current1-2', 'Pack current2-1', 'Pack current2-2',\n",
    "            'Temperature-1', 'Temperature-2', 'Temperature-3', 'Temperature-4'\n",
    "- CTNS : \n",
    "\n",
    "            'Pack voltage-1', 'Pack current1-1\n",
    "            'Is Charge', 'Is Cell OverVoltage',\n",
    "            'Is Cell UnderVoltage', 'Is OverCurrent Charge',\n",
    "            'Is OverCurrent Discharge', 'Is Short Circuit',\n",
    "            'Is OverTemperature', 'Is Pack OverVoltage',\n",
    "            'SOC', 'SOH', 'Time for Charge', 'time for Discharge'\n",
    "            'Remain Capacity Ah', 'Remain Capacity Wh'\n",
    "            'Temperature-(1~3)', 'Cell Voltage-(1~13)'"
   ]
  },
  {
   "cell_type": "code",
   "execution_count": 5,
   "id": "7ee87fd1",
   "metadata": {},
   "source": [
    "moby.get_bms()"
   ],
   "outputs": []
  },
  {
   "cell_type": "markdown",
   "id": "30ca9566",
   "metadata": {},
   "source": [
    "## Get Moby's pose related"
   ]
  },
  {
   "cell_type": "code",
   "execution_count": 11,
   "id": "57aad0df",
   "metadata": {},
   "source": [
    "print(\"Pose [Px, Py, Pw]\", [format(p, '.3f') for p in moby.get_moby_pose()])\n",
    "\n",
    "print(\"Vel [Px, Py, Pw]\", [format(v, '.3f') for v in moby.get_moby_vel()])\n",
    "\n",
    "rot = moby.get_rotation_angle()\n",
    "print(\"Rotation angle (deg)\", [format(rot['fl'], '.3f'), format(rot['fr'], '.3f'), format(rot['bl'], '.3f'), format(rot['br'], '.3f')])\n",
    "\n",
    "drv = moby.get_drive_speed()\n",
    "print(\"Driving speed (m/s)\", [format(drv['fl'], '.3f'), format(drv['fr'], '.3f'), format(drv['bl'], '.3f'), format(drv['br'], '.3f')])\n"
   ],
   "outputs": []
  },
  {
   "cell_type": "code",
   "execution_count": 34,
   "id": "16fcedb5",
   "metadata": {},
   "source": [
    "moby.reset_moby_pose()"
   ],
   "outputs": []
  },
  {
   "cell_type": "markdown",
   "id": "e49e989a",
   "metadata": {},
   "source": [
    "## Gyro data"
   ]
  },
  {
   "cell_type": "code",
   "execution_count": 12,
   "id": "d0300222",
   "metadata": {},
   "source": [
    "print(\"Gyro [yaw, yaw_rate]\", moby.get_gyro_data())"
   ],
   "outputs": []
  },
  {
   "cell_type": "code",
   "execution_count": 13,
   "id": "0f57e3fb",
   "metadata": {},
   "source": [
    "imu = moby.get_imu_data()\n",
    "print(imu)"
   ],
   "outputs": []
  },
  {
   "cell_type": "code",
   "execution_count": 18,
   "id": "eb30f733",
   "metadata": {},
   "source": [
    "moby.use_gyro_for_odom(use_gyro=True)"
   ],
   "outputs": []
  },
  {
   "cell_type": "code",
   "execution_count": 30,
   "id": "c98b7120",
   "metadata": {},
   "source": [
    "moby.reset_gyro()"
   ],
   "outputs": []
  },
  {
   "cell_type": "markdown",
   "id": "5664d827",
   "metadata": {},
   "source": [
    "### UltraSonic Proximity Sensor"
   ]
  },
  {
   "cell_type": "code",
   "execution_count": 23,
   "id": "83444c03",
   "metadata": {},
   "source": [
    "moby.get_us_data()"
   ],
   "outputs": []
  },
  {
   "cell_type": "markdown",
   "id": "0fdcb3d0",
   "metadata": {},
   "source": [
    "## Set Param"
   ]
  },
  {
   "cell_type": "markdown",
   "id": "f3455adf",
   "metadata": {},
   "source": [
    "### set rotation motor zero as current pose"
   ]
  },
  {
   "cell_type": "code",
   "execution_count": null,
   "id": "b1f35f18",
   "metadata": {},
   "source": [
    "moby.set_zero_as_current()"
   ],
   "outputs": []
  },
  {
   "cell_type": "code",
   "execution_count": 14,
   "id": "c71452a9",
   "metadata": {},
   "source": [
    "moby.get_zero()"
   ],
   "outputs": []
  },
  {
   "cell_type": "markdown",
   "id": "11a3a946",
   "metadata": {},
   "source": [
    "### set rotation interpolator\n",
    "0: Ramp interpolator  　　　　  1: Streaming interpolator\n",
    "\n",
    "2: Velocity interpolator   　　　 3: Trapezoidal interpolator"
   ]
  },
  {
   "cell_type": "code",
   "execution_count": 142,
   "id": "ff03a9db",
   "metadata": {},
   "source": [
    "moby.set_rotation_interpolator(val=0)"
   ],
   "outputs": []
  },
  {
   "cell_type": "markdown",
   "id": "60e7e58c",
   "metadata": {},
   "source": [
    "### set rotation controller type\n",
    "\n",
    "0: HINFPID_CONTROLLER\n",
    "\n",
    "1: SIMPLEPID_POS_CONTROLLER\n",
    "\n",
    "2: SIMPLEPID_VEL_CONTROLLER"
   ]
  },
  {
   "cell_type": "code",
   "execution_count": 141,
   "id": "88d89c29",
   "metadata": {},
   "source": [
    "moby.set_rotation_controller_type(val=0)"
   ],
   "outputs": []
  },
  {
   "cell_type": "markdown",
   "id": "a7ea6347",
   "metadata": {},
   "source": [
    "### set rotation vel acc\n",
    "- (vel,　acc)"
   ]
  },
  {
   "cell_type": "code",
   "execution_count": 36,
   "id": "dbfa3b57",
   "metadata": {},
   "source": [
    "moby.set_rotation_vel_acc(vel=1.884, acc=900.477)"
   ],
   "outputs": []
  },
  {
   "cell_type": "markdown",
   "id": "1121c684",
   "metadata": {},
   "source": [
    "### set drive interpolator on/off"
   ]
  },
  {
   "cell_type": "code",
   "execution_count": 48,
   "id": "ade1b8d2",
   "metadata": {},
   "source": [
    "moby.set_drive_interpolator_on_off(on=True)"
   ],
   "outputs": []
  },
  {
   "cell_type": "markdown",
   "id": "6bd4f5ea",
   "metadata": {},
   "source": [
    "### set drive acc dec\n",
    "- (acc,　dec)"
   ]
  },
  {
   "cell_type": "code",
   "execution_count": 46,
   "id": "cbdae82b",
   "metadata": {},
   "source": [
    "moby.set_drive_acc_dec(acc = 0.01, dec = 0.01)"
   ],
   "outputs": []
  },
  {
   "cell_type": "markdown",
   "id": "20fe75c3",
   "metadata": {},
   "source": [
    "\n",
    "### set Moby Rotation Motor Gain\n",
    "index : front left:0,　 frong right:1,　 back left:2,　 back right:3"
   ]
  },
  {
   "cell_type": "code",
   "execution_count": 27,
   "id": "6df90c12",
   "metadata": {},
   "source": [
    "moby.set_rotation_gain(index=0, k=4000, kv=2000, kp=300)\n",
    "moby.set_rotation_gain(index=1, k=4000, kv=2000, kp=300)\n",
    "moby.set_rotation_gain(index=2, k=4000, kv=2000, kp=300)\n",
    "moby.set_rotation_gain(index=3, k=4000, kv=2000, kp=300)"
   ],
   "outputs": []
  },
  {
   "cell_type": "code",
   "execution_count": 2,
   "id": "3f8aae47",
   "metadata": {},
   "source": [
    "print(moby.get_rotation_gain(index=0))"
   ],
   "outputs": []
  },
  {
   "cell_type": "markdown",
   "id": "49595df7",
   "metadata": {},
   "source": [
    "## Rotation, Driving Move control"
   ]
  },
  {
   "cell_type": "markdown",
   "id": "e7cce6b3",
   "metadata": {},
   "source": [
    "### get rotation angle, driving speed, robot velocity"
   ]
  },
  {
   "cell_type": "code",
   "execution_count": 3,
   "id": "04188953",
   "metadata": {},
   "source": [
    "rot = moby.get_rotation_angle()\n",
    "print(\"Rotation angle (deg)\", [format(rot[\"fl\"], '.3f'), format(rot[\"fr\"], '.3f'), format(rot[\"bl\"], '.3f'), format(rot[\"br\"], '.3f')])\n",
    "\n",
    "drv = moby.get_drive_speed()\n",
    "print(\"drive speed (m/s)\", [format(drv[\"fl\"], '.3f'), format(drv[\"fr\"], '.3f'), format(drv[\"bl\"], '.3f'), format(drv[\"br\"], '.3f')])\n",
    "\n",
    "body = moby.get_target_vel()\n",
    "print(\"moby velocity (m/s)\", [format(body[0], '.3f'), format(body[1], '.3f'), format(body[2], '.3f')])"
   ],
   "outputs": []
  },
  {
   "cell_type": "markdown",
   "id": "0cdd8fab",
   "metadata": {},
   "source": [
    "### stop motion"
   ]
  },
  {
   "cell_type": "code",
   "execution_count": null,
   "id": "39846222",
   "metadata": {},
   "source": [
    "moby.stop_motion()"
   ],
   "outputs": []
  },
  {
   "cell_type": "markdown",
   "id": "d808d248",
   "metadata": {},
   "source": [
    "### go straight\n",
    "-> set all rotation motors to zero deg"
   ]
  },
  {
   "cell_type": "code",
   "execution_count": 4,
   "id": "0df8eef5",
   "metadata": {},
   "source": [
    "moby.go_straight()"
   ],
   "outputs": []
  },
  {
   "cell_type": "code",
   "execution_count": 5,
   "id": "98637c3a",
   "metadata": {},
   "source": [
    "moby.stop_motion()"
   ],
   "outputs": []
  },
  {
   "cell_type": "markdown",
   "id": "ebcabc2d",
   "metadata": {},
   "source": [
    "### set rotation angle of each wheel(deg)"
   ]
  },
  {
   "cell_type": "code",
   "execution_count": 36,
   "id": "592b679b",
   "metadata": {},
   "source": [
    "fl = 0\n",
    "fr = 0\n",
    "bl = 0\n",
    "br = 0\n",
    "\n",
    "moby.move_rotation_deg(fl=fl, fr=fr, bl=bl, br=br)"
   ],
   "outputs": []
  },
  {
   "cell_type": "code",
   "execution_count": 16,
   "id": "7918a6fa",
   "metadata": {},
   "source": [
    "moby.stop_motion()"
   ],
   "outputs": []
  },
  {
   "cell_type": "markdown",
   "id": "d9e74e03",
   "metadata": {},
   "source": [
    "### set driving speed of each wheel(m/s)"
   ]
  },
  {
   "cell_type": "code",
   "execution_count": 17,
   "id": "96c7d10d",
   "metadata": {},
   "source": [
    "fl = 0.2\n",
    "fr = 0.2\n",
    "bl = 0.2\n",
    "br = 0.2\n",
    "moby.move_driving_mps(fl=fl, fr=fr, bl=bl, br=br)"
   ],
   "outputs": []
  },
  {
   "cell_type": "code",
   "execution_count": 18,
   "id": "ae43472f",
   "metadata": {},
   "source": [
    "moby.stop_motion()"
   ],
   "outputs": []
  },
  {
   "cell_type": "markdown",
   "id": "0cda3ae3",
   "metadata": {},
   "source": [
    "### set velocity of moby(m/s)"
   ]
  },
  {
   "cell_type": "code",
   "execution_count": 45,
   "id": "46257ad0",
   "metadata": {},
   "source": [
    "moby.set_target_vel(vx=0.2, vy=0.0 ,vw=0.0)"
   ],
   "outputs": []
  },
  {
   "cell_type": "code",
   "execution_count": 47,
   "id": "add7a78d",
   "metadata": {},
   "source": [
    "moby.stop_motion()"
   ],
   "outputs": []
  },
  {
   "cell_type": "markdown",
   "id": "b65d287e",
   "metadata": {},
   "source": [
    "## Keyboard control"
   ]
  },
  {
   "cell_type": "markdown",
   "id": "1f51efc6",
   "metadata": {},
   "source": [
    "install python module\n",
    "- pip install keyboard\n",
    "- pip install ipython\n",
    "\n",
    "|　         |**(8:+vx)**|　         |\n",
    "|:---------:|:---------:|:---------:|\n",
    "|**(4:+vy)**|**(5:-vx)**|**(6:-vy)**|\n",
    "|**(1:-vw)**|　         |**(3:+vw)**|\n",
    "\n",
    " **(7:stop)**----------------**(q:quit)**"
   ]
  },
  {
   "cell_type": "code",
   "execution_count": 6,
   "id": "88c94cb1",
   "metadata": {},
   "source": [
    "import keyboard\n",
    "import time\n",
    "from IPython.display import clear_output\n",
    "\n",
    "vel_x = 0\n",
    "vel_y = 0\n",
    "vel_w = 0\n",
    "vel_interval = 0.05\n",
    "\n",
    "print(\"[vx, vy, vw]\")\n",
    "while True:\n",
    "    clear_output(wait=True)\n",
    "    time.sleep(0.1)\n",
    "#     time.sleep(0.01)\n",
    "    key = keyboard.read_key()\n",
    "    if key == \"q\":\n",
    "        print(\"q\")\n",
    "        break\n",
    "    else:\n",
    "        if key==\"4\":\n",
    "            vel_y += vel_interval\n",
    "        elif key==\"6\":\n",
    "            vel_y -= vel_interval\n",
    "        elif key==\"8\":\n",
    "            vel_x += vel_interval           \n",
    "        elif key==\"5\":\n",
    "            vel_x -= vel_interval\n",
    "        elif key==\"3\":\n",
    "            vel_w += vel_interval\n",
    "        elif key==\"1\":\n",
    "            vel_w -= vel_interval\n",
    "        elif key==\"7\":\n",
    "            vel_x = 0\n",
    "            vel_y = 0\n",
    "            vel_w = 0\n",
    "        print(\"[{:.6f}, {:.6f}, {:.6f}]\".format(vel_x,vel_y,vel_w))\n",
    "        moby.set_target_vel(vel_x, vel_y, vel_w)\n",
    "        key = False"
   ],
   "outputs": []
  },
  {
   "cell_type": "code",
   "execution_count": 20,
   "id": "5d15daa8",
   "metadata": {},
   "source": [
    "moby.stop_motion()"
   ],
   "outputs": []
  },
  {
   "cell_type": "markdown",
   "id": "2f1bf225",
   "metadata": {},
   "source": [
    "### IO Control"
   ]
  },
  {
   "cell_type": "code",
   "execution_count": 154,
   "id": "a019657d",
   "metadata": {},
   "source": [
    "moby.turn_light(True)\n",
    "# moby.turn_light(False)"
   ],
   "outputs": []
  },
  {
   "cell_type": "code",
   "execution_count": 155,
   "id": "a2a9ea94",
   "metadata": {},
   "source": [
    "moby.turn_buzzer(True)\n",
    "# moby.turn_buzzer(False)"
   ],
   "outputs": []
  },
  {
   "cell_type": "code",
   "execution_count": 8,
   "id": "875d09c1",
   "metadata": {},
   "source": [
    "moby.pause_bumper(True)\n",
    "# moby.pause_bumper(False)"
   ],
   "outputs": []
  },
  {
   "cell_type": "code",
   "execution_count": 62,
   "id": "83cd85ba",
   "metadata": {},
   "source": [
    "moby.recover()"
   ],
   "outputs": []
  },
  {
   "cell_type": "markdown",
   "id": "dcb26651",
   "metadata": {},
   "source": [
    "## Realtime Logger for swerving moby"
   ]
  },
  {
   "cell_type": "markdown",
   "id": "18a3fa10",
   "metadata": {},
   "source": [
    "dir : ~/release/IndyDeployment/MobyRTLog\n",
    "\n",
    "q : angle\n",
    "\n",
    "- 0 : record time\n",
    "\n",
    "rotation motor (fl, fr, bl, br)\n",
    "\n",
    "- 1, 2, 3, 4 (q)\n",
    "\n",
    "- 5, 6, 7, 8 (qdot)\n",
    "\n",
    "- 9, 10, 11, 12 (tau)\n",
    "\n",
    "- 13, 14, 15, 16 (target q)\n",
    "\n",
    "\n",
    "\n",
    "- 17, 18, 19, 20 (q_desired)\n",
    "\n",
    "- 21, 22, 23, 24 (qdot_desired)\n",
    "\n",
    "- 25, 26, 27, 28 (qddot_desired)\n",
    "\n",
    "\n",
    "\n",
    "driving wheel (fl, fr, bl, br)\n",
    "\n",
    "- 29, 30, 31, 32 (qdot)\n",
    "\n",
    "- 33, 34, 35, 36 (target qdot)\n"
   ]
  },
  {
   "cell_type": "code",
   "execution_count": 60,
   "id": "d1d2676d",
   "metadata": {},
   "source": [
    "moby.start_rt_logging()"
   ],
   "outputs": []
  },
  {
   "cell_type": "code",
   "execution_count": 63,
   "id": "00d32b33",
   "metadata": {},
   "source": [
    "moby.end_rt_logging()"
   ],
   "outputs": []
  },
  {
   "cell_type": "code",
   "execution_count": null,
   "id": "2229679e",
   "metadata": {},
   "source": [],
   "outputs": []
  }
 ],
 "metadata": {
  "kernelspec": {
   "display_name": "Python 3 (ipykernel)",
   "language": "python",
   "name": "python3"
  },
  "language_info": {
   "codemirror_mode": {
    "name": "ipython",
    "version": 3
   },
   "file_extension": ".py",
   "mimetype": "text/x-python",
   "name": "python",
   "nbconvert_exporter": "python",
   "pygments_lexer": "ipython3",
   "version": "3.8.0"
  }
 },
 "nbformat": 4,
 "nbformat_minor": 5
}
