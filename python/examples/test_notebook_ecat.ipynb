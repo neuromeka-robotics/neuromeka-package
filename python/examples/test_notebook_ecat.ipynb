{
 "cells": [
  {
   "cell_type": "markdown",
   "id": "f187c154",
   "metadata": {},
   "source": [
    "## Import ecat client and object"
   ]
  },
  {
   "cell_type": "code",
   "execution_count": 13,
   "id": "c4af4e02",
   "metadata": {},
   "source": [
    "from neuromeka.ecat import EcatClient\n",
    "import time\n",
    "\n",
    "ip = '192.168.30.4'\n",
    "ecat = EcatClient(ip)"
   ],
   "outputs": []
  },
  {
   "cell_type": "markdown",
   "id": "e85eb2f4",
   "metadata": {},
   "source": [
    "## Get EtherCAT status"
   ]
  },
  {
   "cell_type": "code",
   "execution_count": 20,
   "id": "110142f9",
   "metadata": {},
   "source": [
    "print(\"Master status: \", ecat.get_master_status())\n",
    "print(\"Slave status: \", ecat.get_slave_status())\n",
    "print(\"TxPDO domain: \", ecat.get_txdomain_status())\n",
    "print(\"RxPDO domain: \", ecat.get_rxdomain_status())\n",
    "print(\"System ready: \", ecat.is_system_ready())\n",
    "print(\"Servo state: \", ecat.is_servo_on())\n",
    "print(ecat.get_slave_type_num())\n",
    "num_servo = ecat.get_slave_type_num().num_servo"
   ],
   "outputs": []
  },
  {
   "cell_type": "code",
   "execution_count": 15,
   "id": "95f72c67",
   "metadata": {},
   "source": [
    "ecat.is_servo_on()[0]"
   ],
   "outputs": []
  },
  {
   "cell_type": "markdown",
   "id": "def410f2",
   "metadata": {},
   "source": [
    "## Servo ON/OFF\n",
    "* ecat.set_servo(servo_idx, True/False)"
   ]
  },
  {
   "cell_type": "code",
   "execution_count": 16,
   "id": "bc8d8733",
   "metadata": {},
   "source": [
    "ecat.set_servo(0, True)\n",
    "# ecat.set_servo(1, True)\n",
    "# ecat.set_servo(2, True)\n",
    "# ecat.set_servo(3, True)\n",
    "# ecat.set_servo(4, True)\n",
    "# ecat.set_servo(5, True)\n",
    "# ecat.set_servo(6, True)"
   ],
   "outputs": []
  },
  {
   "cell_type": "code",
   "execution_count": 257,
   "id": "bbfb0c90",
   "metadata": {},
   "source": [
    "ecat.set_servo(0, False)\n",
    "# ecat.set_servo(1, False)\n",
    "# ecat.set_servo(2, False)\n",
    "# ecat.set_servo(3, False)\n",
    "# ecat.set_servo(4, False)\n",
    "# ecat.set_servo(5, False)"
   ],
   "outputs": []
  },
  {
   "cell_type": "markdown",
   "id": "90bd35d3",
   "metadata": {},
   "source": [
    "## Get/Set Servo data\n",
    "\n",
    "* ecat.get_servo_tx(slave_idx)\n",
    "    * TxPDO : [statusWord, modeOpDisp, actualPosition, actualVelocity, actualTorque]\n",
    "  \n",
    "* ecat.get_servo_rx(slave_idx)\n",
    "    * RxPDO : [controlWord, modeOp, targetPosition, targetVelocity, targetTorque]\n"
   ]
  },
  {
   "cell_type": "markdown",
   "id": "bfb3d6f9",
   "metadata": {},
   "source": [
    "* ecat.set_servo_rx(slave_idx, controlWord, modeOP, targetPosition, targetVelocity, targetTorque)\n"
   ]
  },
  {
   "cell_type": "code",
   "execution_count": 24,
   "id": "ce4f1f64",
   "metadata": {},
   "source": [
    "print('Tx PDO')\n",
    "for i in range(0, 6):\n",
    "    print(ecat.get_servo_tx(i))\n",
    "\n",
    "print('Rx PDO')\n",
    "for i in range(0, 6):\n",
    "    print(ecat.get_servo_rx(i))\n"
   ],
   "outputs": []
  },
  {
   "cell_type": "markdown",
   "id": "a9983112",
   "metadata": {},
   "source": [
    "# Neuromeka CORE"
   ]
  },
  {
   "cell_type": "markdown",
   "id": "ce793d0e",
   "metadata": {},
   "source": [
    "## Get/Set Servo Temperature, Error code \n",
    "\n",
    "* ecat.get_servo_temperature(slave_idx) \n",
    "    * Temperature of CORE, Welcon Driver\n",
    "* ecat.get_servo_errorcode(slave_idx\n",
    "    * Errorcode of CORE"
   ]
  },
  {
   "cell_type": "code",
   "execution_count": 39,
   "id": "b0bcb08a",
   "metadata": {},
   "source": [
    "print(\"Temperature\")    \n",
    "for i in range(0,6):\n",
    "    print(i, ecat.get_servo_temperature(i))\n",
    "    \n",
    "print(\"Error code\")    \n",
    "for i in range(0,6):    \n",
    "    print(i, hex(ecat.get_servo_errorcode(i)))"
   ],
   "outputs": []
  },
  {
   "cell_type": "markdown",
   "id": "1a86ce44",
   "metadata": {},
   "source": [
    "# Neuromeka Endtool\n",
    "* ecat.get_endtool_tx()\n",
    "    * [status, button, ft_sensor, ft_state, ft_error]\n",
    "* ecat.get_endtool_rx()\n",
    "    * [eqc, gripper, ft_param, led_mode, led_g, led_r, led_b]"
   ]
  },
  {
   "cell_type": "code",
   "execution_count": 44,
   "id": "5b92e441",
   "metadata": {},
   "source": [
    "print(ecat.get_endtool_tx())\n",
    "print(ecat.get_endtool_rx())"
   ],
   "outputs": []
  },
  {
   "cell_type": "code",
   "execution_count": null,
   "id": "59ccdc7a",
   "metadata": {},
   "source": [
    "endtool_rx = ecat.get_endtool_rx()\n",
    "print(endtool_rx)\n",
    "endtool_rx[\"led_mode\"] = 6\n",
    "endtool_rx[\"led_r\"] = 0\n",
    "endtool_rx[\"led_g\"] = 0\n",
    "endtool_rx[\"led_b\"] = 0\n",
    "print(endtool_rx)\n",
    "ecat.set_endtool_rx(endtool_rx)"
   ],
   "outputs": []
  },
  {
   "cell_type": "markdown",
   "id": "210c6030",
   "metadata": {},
   "source": [
    "# Get/Set DIO PDO\n",
    "### Type : Neuromeka IOboard, servo, endtool, dio\n",
    "* EL1008: DI 8ch\n",
    "* EL2008: DO 8ch\n",
    "* EtherCAT connection order Example\n",
    "```\n",
    "\"Slaves\": [\n",
    "    {\"index\": 0, \"vendor\": \"Beckhoff\",\"product\": \"EK1100\", \"dc_mode\":  false, \"type\": \"junction\"},\n",
    "    {\"index\": 1, \"vendor\": \"Beckhoff\",\"product\": \"EL1008\", \"dc_mode\":  false, \"type\": \"dio\"},\n",
    "    {\"index\": 2, \"vendor\": \"Beckhoff\",\"product\": \"EL1008\", \"dc_mode\":  false, \"type\": \"dio\"},\n",
    "    {\"index\": 3, \"vendor\": \"Beckhoff\",\"product\": \"EL2008\", \"dc_mode\":  false, \"type\": \"dio\"},\n",
    "    {\"index\": 4, \"vendor\": \"Beckhoff\",\"product\": \"EL2008\", \"dc_mode\":  false, \"type\": \"dio\"},\n",
    "    {\"index\": 5, \"vendor\": \"Panasonic\",\"product\": \"Driver200W\", \"dc_mode\":  true, \"type\": \"servo\", \"auto_servo\": true, \"init_mode\":  \"CST\"},\n",
    "    {\"index\": 6, \"vendor\": \"Panasonic\",\"product\": \"Driver200W\", \"dc_mode\":  true, \"type\": \"servo\", \"auto_servo\": true, \"init_mode\":  \"CST\"}\n",
    "  ]\n",
    "  ```\n",
    "* DIO index: EL1008 (0), EL1008 (1), EL2008 (2), EL2008 (3)"
   ]
  },
  {
   "cell_type": "code",
   "execution_count": 45,
   "id": "be320666",
   "metadata": {},
   "source": [
    "for i in range(0,4):\n",
    "    print(ecat.get_di(i))"
   ],
   "outputs": []
  },
  {
   "cell_type": "code",
   "execution_count": 393,
   "id": "cce02a2e",
   "metadata": {},
   "source": [
    "for i in range(0,4):\n",
    "    print(ecat.get_do(i))"
   ],
   "outputs": []
  },
  {
   "cell_type": "code",
   "execution_count": 392,
   "id": "9786a1bb",
   "metadata": {},
   "source": [
    "do_list1 = [1, 1, 1, 1, 1, 1, 0, 0, 0, 0, 0, 0, 0, 0, 0, 0, 0, 0, 0, 0]\n",
    "ecat.set_do(0, do_list1)"
   ],
   "outputs": []
  },
  {
   "cell_type": "markdown",
   "id": "2c5da5eb",
   "metadata": {},
   "source": [
    "# Third Party Motor\n",
    "* ecat.set_servo_rx(slave_idx, controlWord, modeOP, targetPosition, targetVelocity, targetTorque)\n"
   ]
  },
  {
   "cell_type": "markdown",
   "id": "514b6762",
   "metadata": {},
   "source": [
    "## CST mode\n",
    "* controlWord = 0x0f\n",
    "* modeOP = 0x0a\n",
    "* targetTorque = value"
   ]
  },
  {
   "cell_type": "code",
   "execution_count": 50,
   "id": "fbd91181",
   "metadata": {},
   "source": [
    "servo_idx = 0\n",
    "controlWord = 0x0f\n",
    "modeOP = 0x0a\n",
    "targetTorque = 300\n",
    "\n",
    "ecat.set_servo_rx(servo_idx, controlWord, modeOP, 0, 0, targetTorque)"
   ],
   "outputs": []
  },
  {
   "cell_type": "code",
   "execution_count": 51,
   "id": "55c73474",
   "metadata": {},
   "source": [
    "ecat.set_servo_rx(0, 15, 10, 0, 0, 0)"
   ],
   "outputs": []
  },
  {
   "cell_type": "markdown",
   "id": "87aa0f73",
   "metadata": {},
   "source": [
    "## PP mode\n",
    "* controlWord\n",
    "    * sync_mode : 0x1f\n",
    "    * async_mode : 0x3f -> 0x2f\n",
    "* modeOP = 0x01\n",
    "* targetPosition = value"
   ]
  },
  {
   "cell_type": "code",
   "execution_count": 52,
   "id": "0804961b",
   "metadata": {},
   "source": [
    "def pp_move_to(slave_idx, current_pos, target_pos_cnt, sync_mode=False):\n",
    "    if sync_mode:\n",
    "        ecat.set_servo_rx(slave_idx, 0x1f, 0x01, target_pos_cnt, 0, 0)\n",
    "    else:\n",
    "        ecat.set_servo_rx(slave_idx, 0x3f,0x01, target_pos_cnt, 0, 0)\n",
    "        time.sleep(0.01)\n",
    "        ecat.set_servo_rx(slave_idx, 0x2f, 0x01, target_pos_cnt, 0, 0)\n",
    "    "
   ],
   "outputs": []
  },
  {
   "cell_type": "code",
   "execution_count": 53,
   "id": "7bf5b3c6",
   "metadata": {},
   "source": [
    "servo_idx = 0\n",
    "current_pos = ecat.get_servo_tx(0)[2]\n",
    "print(current_pos)"
   ],
   "outputs": []
  },
  {
   "cell_type": "code",
   "execution_count": 60,
   "id": "17663b3f",
   "metadata": {},
   "source": [
    "# For example when 1cm/count is 720000\n",
    "target_pos_cm = 10\n",
    "convert = 1/7200  \n",
    "target_pos = 2 * 360000 * target_pos_cm \n",
    "target_pos_cnt = current_pos + int(target_pos)\n",
    "\n",
    "pp_move_to(0,current_pos, target_pos_cnt)"
   ],
   "outputs": []
  },
  {
   "cell_type": "code",
   "execution_count": 59,
   "id": "30a8004e",
   "metadata": {},
   "source": [
    "# For example when 1cm/count is 720000\n",
    "target_pos_cm = -10\n",
    "target_pos = 2 * 360000 * target_pos_cm \n",
    "target_pos_cnt = current_pos + int(target_pos)\n",
    "\n",
    "pp_move_to(0,current_pos, target_pos_cnt)"
   ],
   "outputs": []
  },
  {
   "cell_type": "markdown",
   "id": "6bc5ff87",
   "metadata": {},
   "source": [
    "## PP mode\n",
    "#### Change profiled velocity, acceleration Using SDO command\n"
   ]
  },
  {
   "cell_type": "markdown",
   "id": "42348f70",
   "metadata": {},
   "source": [
    "* Read\n",
    "    * ethercattool -p(slave_idx) upload -t (size of data) (Index) (subIndex)  \n",
    "(profiled vel, acc, dec)  \n",
    "ethercattool -p0 upload -t uint32 0x6081 0    \n",
    "ethercattool -p0 upload -t uint32 0x6083 0   \n",
    "ethercattool -p0 upload -t uint32 0x6084 0    \n",
    "\n",
    "* Write\n",
    "    * ethercattool -p(slave_idx) download -t (size of data) (Index) (subIndex) (value)\n",
    "    \n",
    "ethercattool -p0 download -t uint32 0x6081 0 5000000   \n",
    "ethercattool -p0 download -t uint32 0x6083 0 3000000   \n",
    "ethercattool -p0 download -t uint32 0x6084 0 3000000    "
   ]
  },
  {
   "attachments": {
    "image-2.png": {
     "image/png": "[encoded data removed]"
    },
    "image.png": {
     "image/png": "[encoded data removed]"
    }
   },
   "cell_type": "markdown",
   "id": "ca847604",
   "metadata": {},
   "source": [
    "![image.png](attachment:image.png)\n",
    "\n",
    "![image-2.png](attachment:image-2.png)"
   ]
  },
  {
   "cell_type": "markdown",
   "id": "49360449",
   "metadata": {},
   "source": [
    "## Ext Servo\n",
    "* ecat.get_axis_data(servo_idx)\n",
    "    * {'active': (servo state)    \n",
    "     'pos_mm': (current pos (mm))  \n",
    "     'vel_mm': (current vel (mm/s))  \n",
    "     'despos_mm': (target pos (mm))    \n",
    "     'desvel_mm': (target vel (mm/s))    \n",
    "     'desacc_mm': (target acc (mm/s))  \n",
    "     'num_axes': (number of Ext Servo)    \n",
    "     'op_state': (operation state)  \n",
    "     'traj_state': (Not used) }"
   ]
  },
  {
   "cell_type": "markdown",
   "id": "523d2ec8",
   "metadata": {},
   "source": [
    "* ecat.move_axis(servo_idx, start_mm, target_mm, is_absolute=True, vel_ratio, acc_ratio, teaching_mode=True)\n",
    "    * PP mode. move 'start_mm' to 'target_mm'\n",
    "   "
   ]
  },
  {
   "cell_type": "markdown",
   "id": "689c4a9c",
   "metadata": {},
   "source": [
    "* ecat.stop_motion(servo_idx)"
   ]
  },
  {
   "cell_type": "code",
   "execution_count": 61,
   "id": "e906ff07",
   "metadata": {},
   "source": [
    "servo_idx = 0\n",
    "ecat.get_axis_data(servo_idx)"
   ],
   "outputs": []
  },
  {
   "cell_type": "code",
   "execution_count": 62,
   "id": "5e711226",
   "metadata": {},
   "source": [
    "def move_jog(servo_idx, target_dir, convert):\n",
    "\n",
    "    cur_pos_cnt = ecat.get_servo_tx(servo_idx)[2]\n",
    "    start_pos_mm = cur_pos_cnt * convert\n",
    "    target_pos_mm = start_pos_mm + 1000*target_dir \n",
    "\n",
    "    ecat.move_axis(servo_idx, start_pos_mm, target_pos_mm)"
   ],
   "outputs": []
  },
  {
   "cell_type": "code",
   "execution_count": 65,
   "id": "71571728",
   "metadata": {},
   "source": [
    "## MOVE JOG\n",
    "servo_idx = 0\n",
    "target_dir = 1\n",
    "convert = 1/7200\n",
    "\n",
    "move_jog(servo_idx, target_dir, convert)"
   ],
   "outputs": []
  },
  {
   "cell_type": "code",
   "execution_count": 64,
   "id": "656733e1",
   "metadata": {},
   "source": [
    "## STOP JOG\n",
    "servo_idx = 0\n",
    "ecat.stop_motion(servo_idx)"
   ],
   "outputs": []
  },
  {
   "cell_type": "markdown",
   "id": "35fc5191",
   "metadata": {},
   "source": [
    "# Test ext servo jog"
   ]
  },
  {
   "cell_type": "code",
   "execution_count": 80,
   "id": "0a0d5529",
   "metadata": {},
   "source": [
    "import keyboard\n",
    "import time\n",
    "from IPython.display import clear_output\n",
    "import os,sys\n",
    "\n",
    "servo_idx = 0\n",
    "convert = 1/7200\n",
    "\n",
    "while True:\n",
    "    clear_output(wait=True)\n",
    "    time.sleep(0.1)\n",
    "#     time.sleep(0.01)\n",
    "    key = keyboard.read_key()\n",
    "    if key == \"q\":\n",
    "        print(\"q\")\n",
    "        break\n",
    "    else:\n",
    "        if key==\"4\":\n",
    "            target_dir = -1\n",
    "            move_jog(servo_idx,target_dir,convert)\n",
    "        elif key==\"6\":\n",
    "            target_dir = 1\n",
    "            move_jog(servo_idx,target_dir,convert)\n",
    "        elif key==\"7\":\n",
    "            ecat.stop_motion(servo_idx)\n",
    "        key = False"
   ],
   "outputs": []
  },
  {
   "cell_type": "markdown",
   "id": "79549e27",
   "metadata": {},
   "source": [
    "## Test est servo Target"
   ]
  },
  {
   "cell_type": "code",
   "execution_count": 71,
   "id": "8479374f",
   "metadata": {},
   "source": [
    "def move_target(servo_idx, target_pos_mm, convert):\n",
    "    cur_pos_cnt = ecat.get_servo_tx(servo_idx)[2]\n",
    "    start_pos_mm = cur_pos_cnt * convert\n",
    "    ecat.move_axis(servo_idx, start_pos_mm, target_pos_mm)"
   ],
   "outputs": []
  },
  {
   "cell_type": "code",
   "execution_count": 79,
   "id": "27240dab",
   "metadata": {},
   "source": [
    "servo_idx = 0\n",
    "save_pos1 = ecat.get_axis_data(servo_idx)['pos_mm'][servo_idx]\n",
    "print(save_pos1)"
   ],
   "outputs": []
  },
  {
   "cell_type": "code",
   "execution_count": 81,
   "id": "91d78332",
   "metadata": {},
   "source": [
    "servo_idx = 0\n",
    "save_pos2 = ecat.get_axis_data(servo_idx)['pos_mm'][servo_idx]\n",
    "print(save_pos2)"
   ],
   "outputs": []
  },
  {
   "cell_type": "code",
   "execution_count": 82,
   "id": "d570b55c",
   "metadata": {},
   "source": [
    "servo_idx = 0\n",
    "convert = 1/7200\n",
    "print(save_pos1)\n",
    "move_target(servo_idx, save_pos1, convert)\n"
   ],
   "outputs": []
  },
  {
   "cell_type": "code",
   "execution_count": 83,
   "id": "77460be7",
   "metadata": {},
   "source": [
    "servo_idx = 0\n",
    "convert = 1/7200\n",
    "print(save_pos2)\n",
    "move_target(servo_idx, save_pos2, convert)"
   ],
   "outputs": []
  },
  {
   "cell_type": "code",
   "execution_count": null,
   "id": "1abffb65",
   "metadata": {},
   "source": [],
   "outputs": []
  }
 ],
 "metadata": {
  "kernelspec": {
   "display_name": "Python 3 (ipykernel)",
   "language": "python",
   "name": "python3"
  },
  "language_info": {
   "codemirror_mode": {
    "name": "ipython",
    "version": 3
   },
   "file_extension": ".py",
   "mimetype": "text/x-python",
   "name": "python",
   "nbconvert_exporter": "python",
   "pygments_lexer": "ipython3",
   "version": "3.9.7"
  }
 },
 "nbformat": 4,
 "nbformat_minor": 5
}
