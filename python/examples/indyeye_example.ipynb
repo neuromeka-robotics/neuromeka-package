{
 "cells": [
  {
   "cell_type": "code",
   "execution_count": 1,
   "id": "7ef00b2f-f7e3-4eca-ab22-057b45d20bcb",
   "metadata": {},
   "outputs": [],
   "source": [
    "# IndyEyeClient Example\n",
    "import sys\n",
    "sys.path.append(\"../../python\")\n",
    "\n",
    "from neuromeka import IndyEye\n",
    "from neuromeka.eye import *\n",
    "\n",
    "eye = IndyEye(\"192.168.6.149\")\n"
   ]
  },
  {
   "cell_type": "code",
   "execution_count": 3,
   "id": "e1f58cca-7a14-4e30-8569-3904bdad1f6d",
   "metadata": {},
   "outputs": [
    {
     "name": "stdout",
     "output_type": "stream",
     "text": [
      "{1: 'sheet'}\n",
      "{'detected': False, 'passed': False, 'cls': 0, 'tar_ee_pose': [-344.0, 209.0, 710.0, -0.9999999403953552, -0.9999999403953552, -0.9999999403953552], 'tar_tool_pose': [0.0, 0.0, 0.0, 0.0, 0.0, 0.0], 'tar_obj_pose': [0.0, 0.0, 0.0, 0.0, 0.0, 0.0], 'tool_idx': 0, 'error_state': True, 'error_module': 'DetectMarker'}\n",
      "None\n"
     ]
    }
   ],
   "source": [
    "\n",
    "object_dict = eye.get_object_dict()\n",
    "print(object_dict)\n",
    "\n",
    "task_pos = [-344, 209, 710, 179, -179, 179]\n",
    "\n",
    "detect_res = eye.run_command(cmd=EyeCommand.DETECT, cls=0, pose_cmd=task_pos)\n",
    "print(detect_res)\n",
    "\n",
    "pose_obj = eye.detect(0, task_pos, mode=DetectKey.REF_TO_OBJECT)\n",
    "print(pose_obj)"
   ]
  }
 ],
 "metadata": {
  "kernelspec": {
   "display_name": "Python 3 (ipykernel)",
   "language": "python",
   "name": "python3"
  },
  "language_info": {
   "codemirror_mode": {
    "name": "ipython",
    "version": 3
   },
   "file_extension": ".py",
   "mimetype": "text/x-python",
   "name": "python",
   "nbconvert_exporter": "python",
   "pygments_lexer": "ipython3",
   "version": "3.8.0"
  }
 },
 "nbformat": 4,
 "nbformat_minor": 5
}
