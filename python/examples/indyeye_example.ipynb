{
 "cells": [
  {
   "cell_type": "markdown",
   "id": "b3135280",
   "metadata": {},
   "source": [
    "# IndeEye client examples"
   ]
  },
  {
   "cell_type": "markdown",
   "id": "82eb271c",
   "metadata": {},
   "source": [
    "## Import packages"
   ]
  },
  {
   "cell_type": "code",
   "execution_count": null,
   "id": "7ef00b2f-f7e3-4eca-ab22-057b45d20bcb",
   "metadata": {},
   "outputs": [],
   "source": [
    "# IndyEyeClient Example\n",
    "from neuromeka import IndyDCP3\n",
    "from neuromeka import IndyEye\n",
    "from neuromeka.eye import *\n",
    "\n",
    "robot_ip = \"192.168.0.10\"\n",
    "eye_ip = \"192.168.0.100\"\n",
    "\n",
    "indy = IndyDCP3(robot_ip)\n",
    "eye = IndyEye(eye_ip)"
   ]
  },
  {
   "cell_type": "markdown",
   "id": "ec99c4a1",
   "metadata": {},
   "source": [
    "#### Use meters as a unit for the `task_pos` arguments (optional)"
   ]
  },
  {
   "cell_type": "code",
   "execution_count": null,
   "id": "15a50318",
   "metadata": {},
   "outputs": [],
   "source": [
    "# For version 3.2.0.7 and higher (For passing task_pos with meters as a unit)\n",
    "eye = IndyEye(eye_ip=eye_ip, pose_unit=\"m\")\n",
    "\n",
    "task_pos = indy.get_control_data()['p'] # Task position (mm)\n",
    "for i in range(len(task_pos)):\n",
    "    task_pos[i] = task_pos[i]/1000  # Convert mm to m\n",
    "pose_obj = eye.detect(cls=1, task_pos=task_pos, mode=DetectKey.REF_TO_OBJECT, robot_ip=robot_ip)\n",
    "print(pose_obj)  # [mm, mm, mm, deg, deg, deg]"
   ]
  },
  {
   "cell_type": "markdown",
   "id": "c09777b9",
   "metadata": {},
   "source": [
    "## Recognition functions\n",
    "* `run_command()` - Execute a command\n",
    "* `get_object_dict()` - Retrieve class information\n",
    "* `detect()` - Execute the Detect command\n",
    "* `detect_by_object_name()` - Execute the Detect command by class name\n",
    "* `retrieve()` - Execute the Retrieve command"
   ]
  },
  {
   "cell_type": "markdown",
   "id": "6d7efd60",
   "metadata": {},
   "source": [
    "### run_command()"
   ]
  },
  {
   "cell_type": "code",
   "execution_count": null,
   "id": "e1f58cca-7a14-4e30-8569-3904bdad1f6d",
   "metadata": {},
   "outputs": [],
   "source": [
    "from neuromeka.eye import * # Required for the EyeCommand class\n",
    "eye.run_command(cmd=EyeCommand.DETECT, cls=2, task_pos=None, robot_ip=robot_ip)"
   ]
  },
  {
   "cell_type": "markdown",
   "id": "4add9e13",
   "metadata": {},
   "source": [
    "### get_object_dict()"
   ]
  },
  {
   "cell_type": "code",
   "execution_count": null,
   "id": "c01c1172",
   "metadata": {},
   "outputs": [],
   "source": [
    "object_dict = eye.get_object_dict()\n",
    "print(object_dict)"
   ]
  },
  {
   "cell_type": "markdown",
   "id": "b839e104",
   "metadata": {},
   "source": [
    "### detect()"
   ]
  },
  {
   "cell_type": "code",
   "execution_count": null,
   "id": "56eecad7",
   "metadata": {},
   "outputs": [],
   "source": [
    "object_result = eye.detect(2, task_pos=None, robot_ip=robot_ip)\n",
    "print(object_result)"
   ]
  },
  {
   "cell_type": "markdown",
   "id": "cfc58a16",
   "metadata": {},
   "source": [
    "### detect_by_object_name()"
   ]
  },
  {
   "cell_type": "code",
   "execution_count": null,
   "id": "1aabe7cf",
   "metadata": {},
   "outputs": [],
   "source": [
    "object_result = eye.detect_by_object_name(\"sheet\", task_pos=None, robot_ip=robot_ip)\n",
    "print(object_result)"
   ]
  },
  {
   "cell_type": "markdown",
   "id": "6c82f2a1",
   "metadata": {},
   "source": [
    "### retrieve()\n",
    "* This function can be used only when the \"On retrieve\" value of the Select module in the graph is \"On\"."
   ]
  },
  {
   "cell_type": "code",
   "execution_count": null,
   "id": "eef0e3f1",
   "metadata": {},
   "outputs": [],
   "source": [
    "eye.detect(1, task_pos=None, robot_ip=robot_ip)\n",
    "i = 0\n",
    "while True:\n",
    "    object_result = eye.retrieve(1, mode=DetectKey.REF_TO_OBJECT)\n",
    "    if object_result is None:\n",
    "        break\n",
    "    print(i, object_result)\n",
    "    i+=1"
   ]
  }
 ],
 "metadata": {
  "kernelspec": {
   "display_name": "Python 3 (ipykernel)",
   "language": "python",
   "name": "python3"
  },
  "language_info": {
   "codemirror_mode": {
    "name": "ipython",
    "version": 3
   },
   "file_extension": ".py",
   "mimetype": "text/x-python",
   "name": "python",
   "nbconvert_exporter": "python",
   "pygments_lexer": "ipython3",
   "version": "3.12.3"
  }
 },
 "nbformat": 4,
 "nbformat_minor": 5
}
