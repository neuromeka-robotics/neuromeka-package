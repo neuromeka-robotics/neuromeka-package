{
 "cells": [
  {
   "cell_type": "markdown",
   "id": "b3135280",
   "metadata": {},
   "source": [
    "# IndeEye client examples"
   ]
  },
  {
   "cell_type": "markdown",
   "id": "82eb271c",
   "metadata": {},
   "source": [
    "## Import packages"
   ]
  },
  {
   "cell_type": "code",
   "execution_count": 1,
   "id": "7ef00b2f-f7e3-4eca-ab22-057b45d20bcb",
   "metadata": {},
   "outputs": [],
   "source": [
    "# IndyEyeClient Example\n",
    "from neuromeka import IndyDCP3\n",
    "from neuromeka import IndyEye\n",
    "from neuromeka.eye import *\n",
    "\n",
    "robot_ip = \"192.168.0.10\"\n",
    "eye_ip = \"192.168.0.100\"\n",
    "\n",
    "indy = IndyDCP3(robot_ip)\n",
    "eye = IndyEye(eye_ip)"
   ]
  },
  {
   "cell_type": "markdown",
   "id": "ec99c4a1",
   "metadata": {},
   "source": [
    "#### Use meters as a unit for the `task_pos` arguments (optional)"
   ]
  },
  {
   "cell_type": "code",
   "execution_count": 7,
   "id": "15a50318",
   "metadata": {},
   "outputs": [
    {
     "name": "stdout",
     "output_type": "stream",
     "text": [
      "[37.012092769145966, 299.6663451194763, 1472.8586673736572, -122.8891830444336, -47.89635467529297, -159.40380859375]\n"
     ]
    }
   ],
   "source": [
    "# For version 3.2.0.7 and higher (For passing task_pos with meters as a unit)\n",
    "eye = IndyEye(eye_ip=eye_ip, pose_unit=\"m\")\n",
    "\n",
    "task_pos = indy.get_control_data()['p'] # Task position (mm)\n",
    "for i in range(len(task_pos)):\n",
    "    task_pos[i] = task_pos[i]/1000  # Convert mm to m\n",
    "pose_obj = eye.detect(cls=1, task_pos=task_pos, mode=DetectKey.REF_TO_OBJECT, robot_ip=robot_ip)\n",
    "print(pose_obj)  # [mm, mm, mm, deg, deg, deg]"
   ]
  },
  {
   "cell_type": "markdown",
   "id": "c09777b9",
   "metadata": {},
   "source": [
    "## Recognition functions\n",
    "* `run_command()` - Execute a command\n",
    "* `get_object_dict()` - Retrieve class information\n",
    "* `detect()` - Execute the Detect command\n",
    "* `detect_by_object_name()` - Execute the Detect command by class name\n",
    "* `retrieve()` - Execute the Retrieve command"
   ]
  },
  {
   "cell_type": "markdown",
   "id": "6d7efd60",
   "metadata": {},
   "source": [
    "### run_command()"
   ]
  },
  {
   "cell_type": "code",
   "execution_count": 2,
   "id": "e1f58cca-7a14-4e30-8569-3904bdad1f6d",
   "metadata": {},
   "outputs": [
    {
     "data": {
      "text/plain": [
       "{'detected': True,\n",
       " 'passed': True,\n",
       " 'cls': 2,\n",
       " 'tar_ee_pose': [0.4000000059604645, 0.0, 0.4000000059604645, 180.0, 7.01670955022206e-15, 180.0],\n",
       " 'tar_tool_pose': [0.5539308786392212, 0.12525422871112823, -0.04618315398693085, 57.29983901977539, 47.79786682128906, -20.361581802368164],\n",
       " 'tar_obj_pose': [0.5539308786392212, 0.12525422871112823, -0.04618315398693085, 57.29983901977539, 47.79786682128906, -20.361581802368164],\n",
       " 'tool_idx': 0,\n",
       " 'error_state': False,\n",
       " 'error_module': ''}"
      ]
     },
     "execution_count": 2,
     "metadata": {},
     "output_type": "execute_result"
    }
   ],
   "source": [
    "from neuromeka.eye import * # Required for the EyeCommand class\n",
    "eye.run_command(cmd=EyeCommand.DETECT, cls=2, task_pos=None, robot_ip=robot_ip)"
   ]
  },
  {
   "cell_type": "markdown",
   "id": "4add9e13",
   "metadata": {},
   "source": [
    "### get_object_dict()"
   ]
  },
  {
   "cell_type": "code",
   "execution_count": 3,
   "id": "c01c1172",
   "metadata": {},
   "outputs": [
    {
     "name": "stdout",
     "output_type": "stream",
     "text": [
      "{1: 'box', 2: 'sheet'}\n"
     ]
    }
   ],
   "source": [
    "object_dict = eye.get_object_dict()\n",
    "print(object_dict)"
   ]
  },
  {
   "cell_type": "markdown",
   "id": "b839e104",
   "metadata": {},
   "source": [
    "### detect()"
   ]
  },
  {
   "cell_type": "code",
   "execution_count": 4,
   "id": "56eecad7",
   "metadata": {},
   "outputs": [
    {
     "name": "stdout",
     "output_type": "stream",
     "text": [
      "[0.4000000059604645, 0.0, 0.4000000059604645, 180.0, 7.01670955022206e-15, 180.0]\n"
     ]
    }
   ],
   "source": [
    "object_result = eye.detect(2, task_pos=None, robot_ip=robot_ip)\n",
    "print(object_result)"
   ]
  },
  {
   "cell_type": "markdown",
   "id": "cfc58a16",
   "metadata": {},
   "source": [
    "### detect_by_object_name()"
   ]
  },
  {
   "cell_type": "code",
   "execution_count": 5,
   "id": "1aabe7cf",
   "metadata": {},
   "outputs": [
    {
     "name": "stdout",
     "output_type": "stream",
     "text": [
      "[0.4000000059604645, 0.0, 0.4000000059604645, 180.0, 7.01670955022206e-15, 180.0]\n"
     ]
    }
   ],
   "source": [
    "object_result = eye.detect_by_object_name(\"sheet\", task_pos=None, robot_ip=robot_ip)\n",
    "print(object_result)"
   ]
  },
  {
   "cell_type": "markdown",
   "id": "6c82f2a1",
   "metadata": {},
   "source": [
    "### retrieve()\n",
    "* This function can be used only when the \"On retrieve\" value of the Select module in the graph is \"On\"."
   ]
  },
  {
   "cell_type": "code",
   "execution_count": 6,
   "id": "eef0e3f1",
   "metadata": {},
   "outputs": [
    {
     "name": "stdout",
     "output_type": "stream",
     "text": [
      "0 [0.5698411464691162, -0.08627843856811523, -0.2501656115055084, -0.8679133653640747, 0.3355945348739624, 179.95574951171875]\n",
      "1 [0.012982563115656376, -0.10948115587234497, -0.25378522276878357, -0.8679133653640747, 0.3355945348739624, 179.95574951171875]\n",
      "2 [0.5762917995452881, 0.37923404574394226, -0.24299229681491852, -28.35634994506836, 7.819411277770996, 179.42495727539062]\n",
      "3 [0.01614897884428501, 0.37357059121131897, -0.24645090103149414, -0.8679133653640747, 0.3355945348739624, 179.95574951171875]\n",
      "4 [0.2763758897781372, -0.11415163427591324, -0.2535466253757477, 18.623287200927734, -0.19971303641796112, 120.38646697998047]\n",
      "5 [0.8328716158866882, -0.09149108082056046, -0.2473297268152237, -20.550567626953125, 19.06422996520996, 116.60760498046875]\n",
      "6 [0.8381878137588501, 0.3782079815864563, -0.24419917166233063, -34.63129425048828, -9.216018676757812, 123.23897552490234]\n",
      "7 [0.2791779339313507, 0.3704879581928253, -0.24744339287281036, -1.5365712642669678, -30.616518020629883, 121.0881576538086]\n",
      "8 [0.6462312340736389, -0.32545486092567444, -0.2532447576522827, 24.846843719482422, -12.089224815368652, -128.17259216308594]\n",
      "9 [0.08610554039478302, -0.3473851978778839, -0.2626268267631531, -9.085391998291016, -33.71102523803711, -122.28369903564453]\n",
      "10 [0.09149426221847534, 0.1373959481716156, -0.25062182545661926, -29.002220153808594, -7.645416736602783, -123.10039520263672]\n",
      "11 [0.6518912315368652, 0.14385025203227997, -0.2484486699104309, 5.0846662521362305, 17.763431549072266, -124.45677185058594]\n",
      "12 [0.8634256720542908, 0.14303722977638245, -0.2463969886302948, -17.66424560546875, 25.021015167236328, 163.29168701171875]\n",
      "13 [0.29915985465049744, -0.3490951359272003, -0.256171315908432, 28.097875595092773, -6.193830490112305, 164.4844512939453]\n",
      "14 [0.30565744638442993, 0.13567589223384857, -0.24872489273548126, -7.572214603424072, -16.19185447692871, 167.23001098632812]\n",
      "15 [0.8596489429473877, -0.32596591114997864, -0.2565980553627014, 18.22430992126465, 29.475067138671875, 173.40818786621094]\n"
     ]
    }
   ],
   "source": [
    "eye.detect(1, task_pos=None, robot_ip=robot_ip)\n",
    "i = 0\n",
    "while True:\n",
    "    object_result = eye.retrieve(1, mode=DetectKey.REF_TO_OBJECT)\n",
    "    if object_result is None:\n",
    "        break\n",
    "    print(i, object_result)\n",
    "    i+=1"
   ]
  }
 ],
 "metadata": {
  "kernelspec": {
   "display_name": "Python 3 (ipykernel)",
   "language": "python",
   "name": "python3"
  },
  "language_info": {
   "codemirror_mode": {
    "name": "ipython",
    "version": 3
   },
   "file_extension": ".py",
   "mimetype": "text/x-python",
   "name": "python",
   "nbconvert_exporter": "python",
   "pygments_lexer": "ipython3",
   "version": "3.7.3"
  }
 },
 "nbformat": 4,
 "nbformat_minor": 5
}
