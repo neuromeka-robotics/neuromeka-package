{
 "cells": [
  {
   "cell_type": "markdown",
   "metadata": {},
   "source": [
    "# Connect to Indy by IndyDCP\n",
    "\n",
    "* robot_ip: IP address of robot (actually, STEP in IndyCB)\n",
    "* name: string represents robot model\n",
    "    * Indy7: \"NRMK-Indy7\"\n",
    "    \n"
   ]
  },
  {
   "cell_type": "code",
   "execution_count": 1,
   "metadata": {
    "pycharm": {
     "is_executing": false
    },
    "scrolled": true
   },
   "outputs": [],
   "source": [
    "try:    \n",
    "    # Use installed PyPI package\n",
    "    from neuromeka import IndyDCP2 \n",
    "except ModuleNotFoundError:\n",
    "    # Use code in local\n",
    "    import sys\n",
    "    sys.path.append(\"../../python\")\n",
    "    from neuromeka import IndyDCP2\n",
    "      \n",
    "import json\n",
    "import time\n",
    "import threading\n",
    "import numpy as np\n",
    "from time import sleep\n",
    "\n",
    "robot_ip = \"192.168.1.10\"  # Robot (Indy) IP\n",
    "robot_name = \"NRMK-Indy7\"  # Robot name (Indy7)\n",
    "# robot_name = \"NRMK-IndyRP2\"  # Robot name (IndyRP2)\n",
    "\n",
    "# Create class object\n",
    "indy = IndyDCP2(robot_ip, robot_name)"
   ]
  },
  {
   "cell_type": "code",
   "execution_count": null,
   "metadata": {},
   "outputs": [],
   "source": [
    "# Connect to robot\n",
    "indy.connect()\n",
    "# Disconnect to robot\n",
    "indy.disconnect()"
   ]
  },
  {
   "cell_type": "markdown",
   "metadata": {},
   "source": [
    "# IndyDCP command function examples"
   ]
  },
  {
   "cell_type": "markdown",
   "metadata": {},
   "source": [
    "## Direct Teaching\n",
    "* Set robot Direct Teaching"
   ]
  },
  {
   "cell_type": "code",
   "execution_count": null,
   "metadata": {
    "scrolled": false
   },
   "outputs": [],
   "source": [
    "indy.connect()\n",
    "status = indy.direct_teaching(True)#Start Direct Teaching\n",
    "indy.disconnect()"
   ]
  },
  {
   "cell_type": "code",
   "execution_count": null,
   "metadata": {},
   "outputs": [],
   "source": [
    "indy.connect()\n",
    "status = indy.direct_teaching(False)#Stop Direct Teaching\n",
    "indy.disconnect()"
   ]
  },
  {
   "cell_type": "markdown",
   "metadata": {},
   "source": [
    "## Emergency stop and reset robot\n",
    "* **emergency_stop()** : enter the emergency mode\n",
    "* **reset_robot()**: reset from the emergency mode"
   ]
  },
  {
   "cell_type": "code",
   "execution_count": null,
   "metadata": {},
   "outputs": [],
   "source": [
    "indy.connect()\n",
    "indy.stop_emergency()\n",
    "indy.disconnect()"
   ]
  },
  {
   "cell_type": "code",
   "execution_count": null,
   "metadata": {},
   "outputs": [],
   "source": [
    "indy.connect()\n",
    "indy.reset_robot()\n",
    "indy.disconnect()"
   ]
  },
  {
   "cell_type": "markdown",
   "metadata": {},
   "source": [
    "## DIO Control"
   ]
  },
  {
   "cell_type": "code",
   "execution_count": null,
   "metadata": {},
   "outputs": [],
   "source": [
    "indy.connect()\n",
    "di_data = indy.get_di()\n",
    "print(di_data)\n",
    "indy.disconnect()"
   ]
  },
  {
   "cell_type": "code",
   "execution_count": null,
   "metadata": {},
   "outputs": [],
   "source": [
    "indy.connect()\n",
    "indy.set_do(1,True)\n",
    "indy.disconnect()"
   ]
  },
  {
   "cell_type": "markdown",
   "metadata": {},
   "source": [
    "## Motion commands\n",
    "### Warning! Indy will move. Please clean the area around the robot\n",
    "* **go_home()**: move to home position\n",
    "* **go_zero()**: move to zero position\n",
    "* **stop_motion()**: stop moving\n",
    "* **execute_move(cmd_name)**: execute specific move command saved in Conty's 1st default program"
   ]
  },
  {
   "cell_type": "code",
   "execution_count": null,
   "metadata": {},
   "outputs": [],
   "source": [
    "indy.connect()"
   ]
  },
  {
   "cell_type": "code",
   "execution_count": null,
   "metadata": {},
   "outputs": [],
   "source": [
    "indy.go_home()"
   ]
  },
  {
   "cell_type": "code",
   "execution_count": null,
   "metadata": {},
   "outputs": [],
   "source": [
    "indy.go_zero()"
   ]
  },
  {
   "cell_type": "code",
   "execution_count": null,
   "metadata": {},
   "outputs": [],
   "source": [
    "indy.stop_motion()"
   ]
  },
  {
   "cell_type": "code",
   "execution_count": null,
   "metadata": {},
   "outputs": [],
   "source": [
    "indy.disconnect()"
   ]
  },
  {
   "cell_type": "markdown",
   "metadata": {},
   "source": [
    "### Joint,Task,Circle move\n",
    "* **movej()**: joint move to defined absolute position [deg]\n",
    "* **movel()**: task move to defined position [mm,deg]\n",
    "* **movec()**: circle move to defined position [mm,deg],[mm,deg]"
   ]
  },
  {
   "cell_type": "code",
   "execution_count": null,
   "metadata": {},
   "outputs": [],
   "source": [
    "indy.connect()"
   ]
  },
  {
   "cell_type": "code",
   "execution_count": null,
   "metadata": {},
   "outputs": [],
   "source": [
    "j_pos = [0,-20,-90,0,-70,0]\n",
    "indy.joint_move_to(j_pos)  # Move 6th joint"
   ]
  },
  {
   "cell_type": "code",
   "execution_count": null,
   "metadata": {},
   "outputs": [],
   "source": [
    "t_pos = [482, -185, 370, 180, 0, 180]\n",
    "indy.task_move_to(t_pos)  # Move along z-axis"
   ]
  },
  {
   "cell_type": "code",
   "execution_count": null,
   "metadata": {},
   "outputs": [],
   "source": [
    "indy.disconnect()"
   ]
  },
  {
   "cell_type": "markdown",
   "metadata": {},
   "source": [
    "## program control"
   ]
  },
  {
   "cell_type": "code",
   "execution_count": null,
   "metadata": {},
   "outputs": [],
   "source": [
    "indy.connect()"
   ]
  },
  {
   "cell_type": "code",
   "execution_count": null,
   "metadata": {},
   "outputs": [],
   "source": [
    "indy.stop_current_program()"
   ]
  },
  {
   "cell_type": "code",
   "execution_count": null,
   "metadata": {},
   "outputs": [],
   "source": [
    "indy.pause_current_program()"
   ]
  },
  {
   "cell_type": "code",
   "execution_count": null,
   "metadata": {},
   "outputs": [],
   "source": [
    "indy.resume_current_program()"
   ]
  },
  {
   "cell_type": "code",
   "execution_count": null,
   "metadata": {},
   "outputs": [],
   "source": [
    "indy.disconnect()"
   ]
  },
  {
   "cell_type": "markdown",
   "metadata": {},
   "source": [
    "## Interfacing with external devices using DIO and AIO"
   ]
  },
  {
   "cell_type": "markdown",
   "metadata": {},
   "source": [
    "## Analog input and output\n",
    "* Analog input/output 0-10V: 0-10000"
   ]
  },
  {
   "cell_type": "code",
   "execution_count": null,
   "metadata": {},
   "outputs": [],
   "source": [
    "indy.connect()"
   ]
  },
  {
   "cell_type": "code",
   "execution_count": null,
   "metadata": {
    "scrolled": false
   },
   "outputs": [],
   "source": [
    "print(indy.get_ai(0))   # Get analog input from AI channel 1\n",
    "print(indy.get_ai(1))   # Get analog input from AI channel 2"
   ]
  },
  {
   "cell_type": "code",
   "execution_count": null,
   "metadata": {},
   "outputs": [],
   "source": [
    "indy.set_ao(0,1000) # 1V output to AI channel 0\n",
    "indy.set_ao(1,1000) # 1V output to AI channel 1"
   ]
  },
  {
   "cell_type": "code",
   "execution_count": null,
   "metadata": {},
   "outputs": [],
   "source": [
    "indy.disconnect()"
   ]
  },
  {
   "cell_type": "markdown",
   "metadata": {},
   "source": [
    "## Read/Write Variables\n",
    "* IntVariable   : 0~999 IntVal\n",
    "* BoolVariable  : 0~999 BoolVal\n",
    "* FloatVariable : 0~999 FloatVal\n",
    "* JposVariable  : 0~999 JointPositon\n",
    "* TposVariable  : 0~999 TaskPosition"
   ]
  },
  {
   "cell_type": "code",
   "execution_count": null,
   "metadata": {},
   "outputs": [],
   "source": [
    "indy.connect()"
   ]
  },
  {
   "cell_type": "code",
   "execution_count": null,
   "metadata": {},
   "outputs": [],
   "source": [
    "DIRECT_VAR_TYPE_BYTE        = 0\n",
    "DIRECT_VAR_TYPE_WORD        = 1\n",
    "DIRECT_VAR_TYPE_DWORD       = 2\n",
    "DIRECT_VAR_TYPE_LWORD       = 3\n",
    "DIRECT_VAR_TYPE_FLOAT       = 4\n",
    "DIRECT_VAR_TYPE_DFLOAT      = 5\n",
    "DIRECT_VAR_TYPE_MODBUS_REG  = 10"
   ]
  },
  {
   "cell_type": "code",
   "execution_count": null,
   "metadata": {},
   "outputs": [],
   "source": [
    "indy.write_direct_variable(dv_type=DIRECT_VAR_TYPE_WORD, dv_addr=5, val=5)\n",
    "indy.read_direct_variable(dv_type=DIRECT_VAR_TYPE_WORD, dv_addr=5)"
   ]
  },
  {
   "cell_type": "code",
   "execution_count": null,
   "metadata": {},
   "outputs": [],
   "source": [
    "indy.write_direct_variable(dv_type=DIRECT_VAR_TYPE_FLOAT, dv_addr=5, val=5.5)\n",
    "indy.read_direct_variable(dv_type=DIRECT_VAR_TYPE_FLOAT, dv_addr=5)"
   ]
  },
  {
   "cell_type": "code",
   "execution_count": null,
   "metadata": {},
   "outputs": [],
   "source": [
    "indy.write_direct_variable(dv_type=DIRECT_VAR_TYPE_BYTE, dv_addr=5, val=1)\n",
    "indy.read_direct_variable(dv_type=DIRECT_VAR_TYPE_BYTE, dv_addr=5)"
   ]
  },
  {
   "cell_type": "code",
   "execution_count": null,
   "metadata": {},
   "outputs": [],
   "source": [
    "indy.get_jpos_variable()"
   ]
  },
  {
   "cell_type": "code",
   "execution_count": null,
   "metadata": {},
   "outputs": [],
   "source": [
    "indy.get_tpos_variable()"
   ]
  },
  {
   "cell_type": "code",
   "execution_count": null,
   "metadata": {},
   "outputs": [],
   "source": [
    "indy.disconnect()"
   ]
  },
  {
   "cell_type": "markdown",
   "metadata": {},
   "source": [
    "## TeleOperation\n",
    "* start_tele_op   : TaskAbsolute = 0, TaskRelative = 1, JointAbsolute = 10, JointRelative = 11\n",
    "* stop_tele_op    : StopTeleOperation\n",
    "* movetelej       : Move Joint (TeleOperation)\n",
    "* movetelel       : Move Task  (TeleOperation)"
   ]
  },
  {
   "cell_type": "code",
   "execution_count": null,
   "metadata": {},
   "outputs": [],
   "source": [
    "indy.connect()"
   ]
  },
  {
   "cell_type": "code",
   "execution_count": 6,
   "metadata": {},
   "outputs": [],
   "source": [
    "JOINT_ABSOLUTE = 10\n",
    "JOINT_RELATIVE = 11\n",
    "TASK_RELATIVE = 1\n",
    "TASK_ABSOLUTE = 0"
   ]
  },
  {
   "cell_type": "code",
   "execution_count": 25,
   "metadata": {},
   "outputs": [],
   "source": [
    "indy.start_tele_op(TASK_RELATIVE)"
   ]
  },
  {
   "cell_type": "code",
   "execution_count": 4,
   "metadata": {},
   "outputs": [],
   "source": [
    "indy.movetelej([0,0,10,0,0,0])"
   ]
  },
  {
   "cell_type": "code",
   "execution_count": 26,
   "metadata": {},
   "outputs": [],
   "source": [
    "x_inc = 10\n",
    "indy.movetelel([x_inc, 0, 0, 0, 0, 0])"
   ]
  },
  {
   "cell_type": "code",
   "execution_count": 27,
   "metadata": {},
   "outputs": [],
   "source": [
    "indy.stop_tele_op()"
   ]
  },
  {
   "cell_type": "code",
   "execution_count": 28,
   "metadata": {},
   "outputs": [],
   "source": [
    "indy.disconnect()"
   ]
  },
  {
   "cell_type": "markdown",
   "metadata": {},
   "source": [
    "## Torque JTS"
   ]
  },
  {
   "cell_type": "code",
   "execution_count": 2,
   "metadata": {},
   "outputs": [
    {
     "name": "stdout",
     "output_type": "stream",
     "text": [
      "Connect: Server IP (192.168.1.10)\n"
     ]
    },
    {
     "data": {
      "text/plain": [
       "True"
      ]
     },
     "execution_count": 2,
     "metadata": {},
     "output_type": "execute_result"
    }
   ],
   "source": [
    "indy.connect()"
   ]
  },
  {
   "cell_type": "code",
   "execution_count": 3,
   "metadata": {},
   "outputs": [
    {
     "name": "stdout",
     "output_type": "stream",
     "text": [
      "[0.0, 0.0, 0.0, 0.0, 0.0, 0.0]\n",
      "[0.0, 0.0, 0.0, 0.0, 0.0, 0.0]\n",
      "[0.0, 0.0, 0.0, 0.0, 0.0, 0.0]\n"
     ]
    }
   ],
   "source": [
    "print(indy.get_control_torque_jts())\n",
    "print(indy.get_control_torque_jts_raw1())\n",
    "print(indy.get_control_torque_jts_raw2())"
   ]
  },
  {
   "cell_type": "code",
   "execution_count": 4,
   "metadata": {},
   "outputs": [],
   "source": [
    "indy.disconnect()"
   ]
  }
 ],
 "metadata": {
  "kernelspec": {
   "display_name": ".venv",
   "language": "python",
   "name": "python3"
  },
  "language_info": {
   "codemirror_mode": {
    "name": "ipython",
    "version": 3
   },
   "file_extension": ".py",
   "mimetype": "text/x-python",
   "name": "python",
   "nbconvert_exporter": "python",
   "pygments_lexer": "ipython3",
   "version": "3.12.3"
  }
 },
 "nbformat": 4,
 "nbformat_minor": 2
}
