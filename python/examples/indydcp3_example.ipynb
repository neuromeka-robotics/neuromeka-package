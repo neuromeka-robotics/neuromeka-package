{
 "cells": [
  {
   "cell_type": "markdown",
   "id": "849d3b34-d92a-4386-99da-c94da860656c",
   "metadata": {},
   "source": [
    "## Import client package\n",
    "* ip_addr: Robot ip address\n",
    "* index: 양팔로봇 사용 시 "
   ]
  },
  {
   "cell_type": "code",
   "execution_count": 1,
   "id": "aef98a24-721b-46c2-8f43-bf0f26ce6fbf",
   "metadata": {
    "ExecuteTime": {
     "end_time": "2024-07-10T16:30:24.443908Z",
     "start_time": "2024-07-10T16:30:24.437671Z"
    },
    "scrolled": true
   },
   "outputs": [],
   "source": [
    "try:    \n",
    "    # Use installed PyPI package\n",
    "    from neuromeka import IndyDCP3 \n",
    "except ModuleNotFoundError:\n",
    "    # Use code in local\n",
    "    import sys\n",
    "    sys.path.append(\"../../python\")\n",
    "    from neuromeka import IndyDCP3\n",
    "\n",
    "step_ip = \"192.168.1.10\"\n",
    "indy = IndyDCP3(step_ip)"
   ]
  },
  {
   "cell_type": "markdown",
   "id": "37a15ea8-0c5d-4de9-835d-9965d99f7d39",
   "metadata": {},
   "source": [
    "## Robot information data \n",
    "\n",
    "* `indy.get_motion_data()`\n",
    "* `indy.get_control_data()`\n",
    "* `indy.get_control_state()`\n",
    "* `indy.get_servo_data()`\n",
    "* `indy.get_violation_data()`\n",
    "* `indy.get_program_data()`"
   ]
  },
  {
   "cell_type": "code",
   "execution_count": null,
   "id": "23f2a13c-0d21-48ce-8c46-654d86ad41cc",
   "metadata": {
    "ExecuteTime": {
     "end_time": "2024-07-10T16:30:31.324566Z",
     "start_time": "2024-07-10T16:30:31.310405Z"
    }
   },
   "outputs": [],
   "source": [
    "indy.get_robot_data()"
   ]
  },
  {
   "cell_type": "code",
   "execution_count": null,
   "id": "8aeed351",
   "metadata": {},
   "outputs": [],
   "source": [
    "indy.get_control_state()"
   ]
  },
  {
   "cell_type": "code",
   "execution_count": null,
   "id": "1c5afbbe-7f27-4ed1-80dc-eb59a68bbd42",
   "metadata": {},
   "outputs": [],
   "source": [
    "from neuromeka import OpState\n",
    "OpState.IDLE"
   ]
  },
  {
   "cell_type": "code",
   "execution_count": 2,
   "id": "fff0381f",
   "metadata": {},
   "outputs": [
    {
     "data": {
      "text/plain": [
       "{'q': [0.0019975142,\n",
       "  -0.002678485,\n",
       "  -90.03037,\n",
       "  0.019307656,\n",
       "  -89.99859,\n",
       "  0.00054387766],\n",
       " 'qdot': [-0.0, -0.0, 0.0, -0.0, -0.0, -0.0],\n",
       " 'qddot': [0.0, 0.0, 0.0, 0.0, 0.0, 0.0],\n",
       " 'qdes': [0.0020429122,\n",
       "  -0.002678485,\n",
       "  -90.03033,\n",
       "  0.019307656,\n",
       "  -89.998474,\n",
       "  0.00054387766],\n",
       " 'qdotdes': [0.0, 0.0, 0.0, 0.0, 0.0, 0.0],\n",
       " 'qddotdes': [0.0, 0.0, 0.0, 0.0, 0.0, 0.0],\n",
       " 'p': [349.90155, -186.41096, 521.7365, -0.019307354, -179.96837, 0.00145316],\n",
       " 'pdot': [-0.0, 0.0, 0.0, 0.0, 0.0, 0.0],\n",
       " 'pddot': [0.0, 0.0, 0.0, 0.0, 0.0, 0.0],\n",
       " 'pdes': [349.9023,\n",
       "  -186.41068,\n",
       "  521.73676,\n",
       "  -0.019307356,\n",
       "  -179.96852,\n",
       "  0.0014985214],\n",
       " 'pdotdes': [0.0, 0.0, 0.0, 0.0, 0.0, 0.0],\n",
       " 'pddotdes': [0.0, 0.0, 0.0, 0.0, 0.0, 0.0],\n",
       " 'tau': [-3.0603406, 20.051193, 20.62447, -6.285127, -0.20427038, -0.09188343],\n",
       " 'tau_act': [-3.1194305,\n",
       "  19.685835,\n",
       "  20.786406,\n",
       "  -6.343978,\n",
       "  -0.1738494,\n",
       "  -0.06099979],\n",
       " 'tau_ext': [1.5317416,\n",
       "  0.37084287,\n",
       "  0.07556363,\n",
       "  0.0010351752,\n",
       "  0.11173476,\n",
       "  0.038309008],\n",
       " 'tau_jts': [0.0, 0.0, 0.0, 0.0, 0.0, 0.0],\n",
       " 'tau_jts_raw1': [0.0, 0.0, 0.0, 0.0, 0.0, 0.0],\n",
       " 'tau_jts_raw2': [0.0, 0.0, 0.0, 0.0, 0.0, 0.0]}"
      ]
     },
     "execution_count": 2,
     "metadata": {},
     "output_type": "execute_result"
    }
   ],
   "source": [
    "indy.get_control_state()"
   ]
  },
  {
   "cell_type": "code",
   "execution_count": null,
   "id": "7bee76db-e0e3-46e1-af9d-eccccdc42ebf",
   "metadata": {},
   "outputs": [],
   "source": [
    "indy.get_motion_data()"
   ]
  },
  {
   "cell_type": "code",
   "execution_count": null,
   "id": "f0ec5ff8-f2ba-4a52-b977-d03f7c4631d6",
   "metadata": {},
   "outputs": [],
   "source": [
    "from neuromeka import TrajState\n",
    "TrajState.ACC"
   ]
  },
  {
   "cell_type": "code",
   "execution_count": null,
   "id": "3e6992ea-5f95-4d9d-beb8-98294d338f14",
   "metadata": {
    "scrolled": true
   },
   "outputs": [],
   "source": [
    "indy.get_servo_data()"
   ]
  },
  {
   "cell_type": "code",
   "execution_count": null,
   "id": "5a145b9e-b6dd-49a9-96d9-1e800239fa25",
   "metadata": {},
   "outputs": [],
   "source": [
    "indy.get_violation_data()"
   ]
  },
  {
   "cell_type": "code",
   "execution_count": null,
   "id": "f370e0b1-1ebe-400c-8844-5906c2701860",
   "metadata": {},
   "outputs": [],
   "source": [
    "indy.get_program_data()"
   ]
  },
  {
   "cell_type": "code",
   "execution_count": null,
   "id": "cb22d2e4-eb40-4f7a-97d6-c28effb03c59",
   "metadata": {},
   "outputs": [],
   "source": [
    "from neuromeka import ProgramState\n",
    "ProgramState.STOPPING"
   ]
  },
  {
   "cell_type": "markdown",
   "id": "9055c39c-9ca7-42e0-96de-2537f212b937",
   "metadata": {},
   "source": [
    "## Input/Output Device Related Functions\n",
    "\n",
    "* `get_di()`\n",
    "* `get_do()`\n",
    "* `set_do(do_signal_list)`\n",
    "* `get_ai()`\n",
    "* `get_ao()`\n",
    "* `set_ao(ao_signal_list)`\n",
    "* `get_endtool_di()`\n",
    "* `get_endtool_do()`\n",
    "* `set_endtool_do(end_do_signal_list)`\n",
    "* `get_endtool_ai()`\n",
    "* `get_endtool_ao()`\n",
    "* `get_device_info()`\n",
    "* `get_ft_sensor_data()`"
   ]
  },
  {
   "cell_type": "code",
   "execution_count": null,
   "id": "9a0bc96b-7501-4e27-add3-ba20b81d1822",
   "metadata": {
    "scrolled": true
   },
   "outputs": [],
   "source": [
    "indy.get_di()"
   ]
  },
  {
   "cell_type": "code",
   "execution_count": null,
   "id": "5b0e7de3-a9f7-4129-9ff3-20f168b560e6",
   "metadata": {
    "scrolled": true
   },
   "outputs": [],
   "source": [
    "from neuromeka import DigitalState\n",
    "\n",
    "signal = [{'address': 1, 'state': DigitalState.OFF}]\n",
    "indy.set_do(signal)\n",
    "\n",
    "indy.get_do()"
   ]
  },
  {
   "cell_type": "code",
   "execution_count": null,
   "id": "fa5351ce-c08f-4cce-9bb4-4c4106d12706",
   "metadata": {
    "scrolled": true
   },
   "outputs": [],
   "source": [
    "signal = [{'address': 1, 'state': DigitalState.OFF}, \n",
    "         {'address': 5, 'state': DigitalState.ON}, \n",
    "         {'address': 9, 'state': DigitalState.ON}]\n",
    "indy.set_do(signal)\n",
    "indy.get_do()"
   ]
  },
  {
   "cell_type": "code",
   "execution_count": null,
   "id": "eea5f839-6afd-4255-b73b-e3a424a2c39b",
   "metadata": {},
   "outputs": [],
   "source": [
    "indy.get_ai()"
   ]
  },
  {
   "cell_type": "code",
   "execution_count": null,
   "id": "ad89ddfc-2ed2-44c2-a57b-c75cbfad2e20",
   "metadata": {},
   "outputs": [],
   "source": [
    "indy.get_ao()"
   ]
  },
  {
   "cell_type": "code",
   "execution_count": null,
   "id": "681567eb-fd4c-44a5-82f6-fba50a8414e1",
   "metadata": {
    "scrolled": true
   },
   "outputs": [],
   "source": [
    "signal = [{'address': 0, 'voltage': 7}, \n",
    "         {'address': 1, 'voltage': 2}]\n",
    "indy.set_ao(signal)\n",
    "\n",
    "indy.get_ao()"
   ]
  },
  {
   "cell_type": "code",
   "execution_count": null,
   "id": "1cbf3deb-a276-47b3-9e9b-35257d0e2975",
   "metadata": {},
   "outputs": [],
   "source": [
    "indy.get_endtool_di()"
   ]
  },
  {
   "cell_type": "code",
   "execution_count": null,
   "id": "31bedcc2-16f2-4d12-bf0d-db39504ba87b",
   "metadata": {},
   "outputs": [],
   "source": [
    "from neuromeka import EndtoolState\n",
    "\n",
    "EndtoolState.LOW_PNP"
   ]
  },
  {
   "cell_type": "code",
   "execution_count": null,
   "id": "31923ca7-3aa2-481a-ae15-00310e1d795e",
   "metadata": {},
   "outputs": [],
   "source": [
    "# RevC board, DO 1 입력\n",
    "signal = [{'port': 'C', 'states': [EndtoolState.HIGH_PNP]}]\n",
    "indy.set_endtool_do(signal)\n",
    "\n",
    "indy.get_endtool_do()"
   ]
  },
  {
   "cell_type": "code",
   "execution_count": null,
   "id": "2142933a-0f4d-4e60-b7c2-70355bea247c",
   "metadata": {},
   "outputs": [],
   "source": [
    "signal = [{'port': 'A', 'states': [EndtoolState.HIGH_PNP, EndtoolState.HIGH_PNP]},\n",
    "         {'port': 'B', 'states': [EndtoolState.HIGH_NPN, EndtoolState.HIGH_NPN]}]\n",
    "indy.set_endtool_do(signal)\n",
    "\n",
    "indy.get_endtool_do()"
   ]
  },
  {
   "cell_type": "code",
   "execution_count": null,
   "id": "d0e425c8-1a79-48f5-b349-49e04510993b",
   "metadata": {},
   "outputs": [],
   "source": [
    "indy.get_endtool_ao()"
   ]
  },
  {
   "cell_type": "code",
   "execution_count": null,
   "id": "0d08357c-7c99-462b-995b-91dd4e80dee7",
   "metadata": {},
   "outputs": [],
   "source": [
    "# indy.set_endtool_ai()"
   ]
  },
  {
   "cell_type": "code",
   "execution_count": null,
   "id": "bbdb00b1-696b-4b2c-b9f5-44be1e310e40",
   "metadata": {},
   "outputs": [],
   "source": [
    "indy.get_device_info()"
   ]
  },
  {
   "cell_type": "code",
   "execution_count": null,
   "id": "2e9ecf6d-1837-4f5b-9364-ee2f58e00e20",
   "metadata": {},
   "outputs": [],
   "source": [
    "indy.get_ft_sensor_data()"
   ]
  },
  {
   "cell_type": "code",
   "execution_count": null,
   "id": "e6437214",
   "metadata": {},
   "outputs": [],
   "source": [
    "indy.get_ft_zero()"
   ]
  },
  {
   "cell_type": "markdown",
   "id": "4d3f1731-846d-43a1-b87c-95e014c04df4",
   "metadata": {},
   "source": [
    "## Motion Command Data Related Functions\n",
    "\n",
    "* `stop_motion(stop_category)`\n",
    "* `movej(jtarget, blending_type, base_type, blending_radius, vel_ratio, acc_ratio, post_condition, teaching_mode)`\n",
    "* `movej_time(jtarget, blending_type, base_type, blending_radius, move_time, post_condition)`\n",
    "* `movel(ttarget, blending_type, base_type, blending_radius, vel_ratio, acc_ratio, post_condition, teaching_mode)`\n",
    "* `movel_time(ttarget, blending_type, base_type, blending_radius, move_time, post_condition)`\n",
    "* `movec(tpos0, tpos1, blending_type, base_type, angle=90.0, setting_type, move_type, blending_radius, vel_ratio, acc_ratio, post_condition, teaching_mode)`"
   ]
  },
  {
   "cell_type": "code",
   "execution_count": null,
   "id": "7c6bce76-3c69-4e5c-b830-e39665df893c",
   "metadata": {},
   "outputs": [],
   "source": [
    "from neuromeka import StopCategory\n",
    "\n",
    "indy.stop_motion(StopCategory.CAT2)"
   ]
  },
  {
   "cell_type": "markdown",
   "id": "7f79c8ed-054a-464c-9edf-b327c3804ee7",
   "metadata": {},
   "source": [
    "### move_home()"
   ]
  },
  {
   "cell_type": "code",
   "execution_count": 6,
   "id": "57faa566-4254-46be-8432-e96fef00787a",
   "metadata": {},
   "outputs": [],
   "source": [
    "indy.move_home()"
   ]
  },
  {
   "cell_type": "markdown",
   "id": "e06db4ad-7496-4e0a-aba2-6a4207f95927",
   "metadata": {},
   "source": [
    "### movej"
   ]
  },
  {
   "cell_type": "code",
   "execution_count": null,
   "id": "3743f6d0-a985-4c55-b942-a0fd3bce97b4",
   "metadata": {},
   "outputs": [],
   "source": [
    "target_pos = [0, 0, -90, 0, -90, 0]\n",
    "indy.movej(jtarget=target_pos)"
   ]
  },
  {
   "cell_type": "code",
   "execution_count": null,
   "id": "0397a068-70c3-480d-a9f1-352df8fe4ec0",
   "metadata": {},
   "outputs": [],
   "source": [
    "target_pos = [50, 0, -90, 0, -90, 0]\n",
    "indy.movej(jtarget=target_pos, vel_ratio=100, acc_ratio=300)"
   ]
  },
  {
   "cell_type": "code",
   "execution_count": null,
   "id": "c36555b2-d603-44ee-88fd-c3883ab252e4",
   "metadata": {},
   "outputs": [],
   "source": [
    "from neuromeka import JointBaseType\n",
    "\n",
    "target_pos = [50, 0, -90, 0, -90, 0]\n",
    "indy.movej(jtarget=target_pos, base_type=JointBaseType.ABSOLUTE)"
   ]
  },
  {
   "cell_type": "code",
   "execution_count": null,
   "id": "c7a83c77-358b-47b9-bb92-65dfc2153509",
   "metadata": {},
   "outputs": [],
   "source": [
    "target_pos = [50, 0, 0, 0, 0, 0]\n",
    "indy.movej(jtarget=target_pos, base_type=JointBaseType.RELATIVE)"
   ]
  },
  {
   "cell_type": "code",
   "execution_count": null,
   "id": "0944d529-85cf-4e09-b675-9ec9fa308db1",
   "metadata": {
    "scrolled": true
   },
   "outputs": [],
   "source": [
    "import time\n",
    "\n",
    "target_pos = [100, 0, -90, 0, -90, 0]\n",
    "\n",
    "for i in range(0,20):\n",
    "    time.sleep(0.1)\n",
    "    indy.movej(jtarget=target_pos, vel_ratio=50, acc_ratio=100, teaching_mode=True)"
   ]
  },
  {
   "cell_type": "markdown",
   "id": "976add4e-ccbd-472f-b58d-e5727882c1ac",
   "metadata": {},
   "source": [
    "### movej_time"
   ]
  },
  {
   "cell_type": "code",
   "execution_count": null,
   "id": "be2368aa-1d75-44eb-bde1-dea7501edcd4",
   "metadata": {},
   "outputs": [],
   "source": [
    "target_pos = [-100, 0, 90, 0, 90, 0]\n",
    "indy.movej_time(jtarget=target_pos, move_time=5)"
   ]
  },
  {
   "cell_type": "markdown",
   "id": "ee32168d-a3d6-4add-acd8-342a6c8653ad",
   "metadata": {},
   "source": [
    "### movel"
   ]
  },
  {
   "cell_type": "code",
   "execution_count": null,
   "id": "48959641-3825-402a-a8b1-f4ba45af3c0f",
   "metadata": {},
   "outputs": [],
   "source": [
    "pos = indy.get_control_state()['p']\n",
    "\n",
    "indy.movel(ttarget=pos)"
   ]
  },
  {
   "cell_type": "code",
   "execution_count": null,
   "id": "69128d47-1144-4c38-910a-142ddb512308",
   "metadata": {},
   "outputs": [],
   "source": [
    "from neuromeka import TaskBaseType\n",
    "\n",
    "pos = [100, 0, 0, 0, 0, 0]\n",
    "indy.movel(ttarget=pos, base_type=TaskBaseType.RELATIVE)"
   ]
  },
  {
   "cell_type": "code",
   "execution_count": null,
   "id": "b73d9599-4e91-4527-ac3a-a89f0cbfefad",
   "metadata": {},
   "outputs": [],
   "source": [
    "pos = [100, 0, 0, 0, 0, 0]\n",
    "indy.movel(ttarget=pos, base_type=TaskBaseType.TCP)"
   ]
  },
  {
   "cell_type": "markdown",
   "id": "8b91972e-9d0f-4a15-8999-29aa393096a4",
   "metadata": {},
   "source": [
    "### movel_time"
   ]
  },
  {
   "cell_type": "code",
   "execution_count": null,
   "id": "7b8e468d-a8a7-4f69-bf27-5c5fbad8a23d",
   "metadata": {},
   "outputs": [],
   "source": [
    "pos = indy.get_control_state()['p']\n",
    "pos[0] += 100\n",
    "\n",
    "indy.movel_time(ttarget=pos, move_time=3)"
   ]
  },
  {
   "cell_type": "markdown",
   "id": "e2ef5fba-02bc-4e56-b6f5-91a7c501bdcf",
   "metadata": {},
   "source": [
    "### movec"
   ]
  },
  {
   "cell_type": "code",
   "execution_count": null,
   "id": "6c8fd7ae-2f42-48fc-aacc-7adce6c52e64",
   "metadata": {},
   "outputs": [],
   "source": [
    "start_pos = [400.83, -61.27, 647.45, 0.07, 179.96, 8.78]\n",
    "indy.movel(ttarget=start_pos)\n",
    "\n",
    "via_point = [241.66, -51.11, 644.20, 0.0, 180.0, 23.36]\n",
    "end_point = [401.53, -47.74, 647.50, 0.0, 180.0, 23.37]"
   ]
  },
  {
   "cell_type": "code",
   "execution_count": null,
   "id": "3938dd44",
   "metadata": {},
   "outputs": [],
   "source": [
    "indy.movec(tpos0=via_point, tpos1=end_point, angle=720)"
   ]
  },
  {
   "cell_type": "code",
   "execution_count": null,
   "id": "7c85280f",
   "metadata": {},
   "outputs": [],
   "source": [
    "indy.movec_time(tpos0=via_point, tpos1=end_point, angle=720, move_time=10)"
   ]
  },
  {
   "cell_type": "markdown",
   "id": "855c18b1",
   "metadata": {},
   "source": [
    "### move joint waypoint"
   ]
  },
  {
   "cell_type": "code",
   "execution_count": null,
   "id": "27393bd7",
   "metadata": {},
   "outputs": [],
   "source": [
    "jtarget_0 = [0,0,0,0,0,0]\n",
    "jtarget_1 = [-44,25,-63,48,-7,-105]\n",
    "jtarget_2 = [0,0,90,0,90,0]\n",
    "jtarget_3 = [-145,31,-33,117,-7,-133]\n",
    "jtarget_4 = [-90,-15,-90,0,-75,0]\n",
    "\n",
    "indy.add_joint_waypoint(jtarget_0)\n",
    "indy.add_joint_waypoint(jtarget_1)\n",
    "indy.add_joint_waypoint(jtarget_2)\n",
    "indy.add_joint_waypoint(jtarget_3)\n",
    "indy.add_joint_waypoint(jtarget_4)\n",
    "\n",
    "indy.get_joint_waypoint()"
   ]
  },
  {
   "cell_type": "code",
   "execution_count": null,
   "id": "b198de37",
   "metadata": {},
   "outputs": [],
   "source": [
    "\n",
    "indy.move_joint_waypoint()"
   ]
  },
  {
   "cell_type": "code",
   "execution_count": null,
   "id": "cbba9660",
   "metadata": {},
   "outputs": [],
   "source": [
    "\n",
    "indy.move_joint_waypoint(move_time=3)"
   ]
  },
  {
   "cell_type": "code",
   "execution_count": null,
   "id": "40d22b94",
   "metadata": {},
   "outputs": [],
   "source": [
    "\n",
    "indy.clear_joint_waypoint()"
   ]
  },
  {
   "cell_type": "markdown",
   "id": "d88e2553",
   "metadata": {},
   "source": [
    "### move task waypoint"
   ]
  },
  {
   "cell_type": "code",
   "execution_count": null,
   "id": "66468e07",
   "metadata": {},
   "outputs": [],
   "source": [
    "\n",
    "ttarget_0 = [400, -50, 650, 0, 180, 23]\n",
    "ttarget_1 = [300, -50, 650, 0, 180, 23]\n",
    "ttarget_2 = [300, -50, 550, 0, 180, 23]\n",
    "ttarget_3 = [400, -50, 550, 0, 180, 23]\n",
    "ttarget_4 = [400, -50, 650, 0, 180, 23]\n",
    "\n",
    "indy.add_task_waypoint(ttarget_0)\n",
    "indy.add_task_waypoint(ttarget_1)\n",
    "indy.add_task_waypoint(ttarget_2)\n",
    "indy.add_task_waypoint(ttarget_3)\n",
    "indy.add_task_waypoint(ttarget_4)\n",
    "\n",
    "indy.get_task_waypoint()"
   ]
  },
  {
   "cell_type": "code",
   "execution_count": null,
   "id": "24362d93",
   "metadata": {},
   "outputs": [],
   "source": [
    "\n",
    "indy.move_task_waypoint()"
   ]
  },
  {
   "cell_type": "code",
   "execution_count": null,
   "id": "f6190e85",
   "metadata": {},
   "outputs": [],
   "source": [
    "indy.move_task_waypoint(move_time=1.5)"
   ]
  },
  {
   "cell_type": "markdown",
   "id": "f30d0623",
   "metadata": {},
   "source": [
    "### Waiting Funtions\n",
    "    WaitTime: Waits for a specified time.\n",
    "    WaitProgress: Waits for progress status.\n",
    "    WaitRadius: Waits until movement within a specified radius is complete.\n",
    "    WaitTraj: Waits until trajectory movement is complete.\n",
    "        WaitTraj conditions: \n",
    "            0: TRAJ_STARTED: trajectory has just started\n",
    "            1: TRAJ_ACC_DONE: acceleration phase of the trajectory has been completed\n",
    "            2: TRAJ_CRZ_DONE: cruising phase (constant speed phase) of the trajectory has been completed.\n",
    "            3: TRAJ_DEC_DONE: deceleration phase of the trajectory has been completed."
   ]
  },
  {
   "cell_type": "code",
   "execution_count": null,
   "id": "e992e37d",
   "metadata": {},
   "outputs": [],
   "source": [
    "jtarget_0 = [0,0,0,0,0,0]\n",
    "indy.movej(jtarget = jtarget_0, blending_type=1)\n",
    "\n",
    "# indy.wait_time(1)\n",
    "# indy.wait_radius(10)\n",
    "# indy.wait_traj(1)\n",
    "indy.wait_progress(15)\n",
    "\n",
    "jtarget_1 = [0,0,-90,0,-90,0]\n",
    "indy.movej(jtarget = jtarget_1, blending_type=1)"
   ]
  },
  {
   "cell_type": "markdown",
   "id": "b6363188-2c8d-47d0-a90b-8a1c9e805dde",
   "metadata": {},
   "source": [
    "### Async move: Override and Duplicate"
   ]
  },
  {
   "cell_type": "code",
   "execution_count": null,
   "id": "c0a8b27a-4896-4f14-851a-34d7eb598047",
   "metadata": {},
   "outputs": [],
   "source": [
    "from neuromeka import BlendingType\n",
    "import time\n",
    "\n",
    "target_pos1 = [400, -50, 650, 0, 180, 23]\n",
    "target_pos2 = [300, -50, 650, 0, 180, 23]\n",
    "target_pos3 = [300, -50, 550, 0, 180, 23]\n",
    "target_pos4 = [400, -50, 550, 0, 180, 23]\n",
    "target_pos5 = [400, -50, 650, 0, 180, 23]\n",
    "\n",
    "indy.movel(target_pos1)\n",
    "time.sleep(1)\n",
    "\n",
    "indy.movel(target_pos2)\n",
    "indy.movel(target_pos3)"
   ]
  },
  {
   "cell_type": "code",
   "execution_count": null,
   "id": "e9398b74-d4fa-4aa8-847e-634d87bc0e3d",
   "metadata": {},
   "outputs": [],
   "source": [
    "indy.movel(target_pos1)\n",
    "time.sleep(1)\n",
    "\n",
    "indy.movel(target_pos2, blending_type=BlendingType.DUPLICATE)\n",
    "time.sleep(0.5)\n",
    "indy.movel(target_pos3)"
   ]
  },
  {
   "cell_type": "code",
   "execution_count": null,
   "id": "460c167d-a4dd-4b43-ab25-9f3c7f63aee4",
   "metadata": {},
   "outputs": [],
   "source": [
    "indy.movel(target_pos1)\n",
    "time.sleep(1)\n",
    "\n",
    "indy.movel(target_pos2, blending_type=BlendingType.OVERRIDE)\n",
    "time.sleep(0.5)\n",
    "indy.movel(target_pos3)"
   ]
  },
  {
   "cell_type": "markdown",
   "id": "6fc64ba0-bf3d-4d88-a40f-f28d8f872bc0",
   "metadata": {},
   "source": [
    "## Teleoperation"
   ]
  },
  {
   "cell_type": "code",
   "execution_count": null,
   "id": "df235073-5c5f-478a-97c1-988b1099a1c6",
   "metadata": {},
   "outputs": [],
   "source": [
    "from neuromeka import JointTeleopType"
   ]
  },
  {
   "cell_type": "code",
   "execution_count": null,
   "id": "c46292bf-ea2a-4304-892c-5d50e7dd511d",
   "metadata": {},
   "outputs": [],
   "source": [
    "indy.start_teleop(method=JointTeleopType.ABSOLUTE)"
   ]
  },
  {
   "cell_type": "code",
   "execution_count": null,
   "id": "7493f6f9-bf15-4444-9093-f3aa3f2e6377",
   "metadata": {},
   "outputs": [],
   "source": [
    "indy.stop_teleop()"
   ]
  },
  {
   "cell_type": "code",
   "execution_count": null,
   "id": "d37cca59-bf57-4610-abf4-a84c06ba3713",
   "metadata": {},
   "outputs": [],
   "source": [
    "indy.start_teleop(method=JointTeleopType.RELATIVE)"
   ]
  },
  {
   "cell_type": "code",
   "execution_count": null,
   "id": "8709f24c-a5f7-4908-b61d-61f09d93ca1d",
   "metadata": {},
   "outputs": [],
   "source": [
    "x_inc = 5"
   ]
  },
  {
   "cell_type": "code",
   "execution_count": null,
   "id": "1764e9b0-c6ea-4fb7-af58-276cb3807893",
   "metadata": {
    "scrolled": true
   },
   "outputs": [],
   "source": [
    "x_inc += 5\n",
    "indy.movetelej_rel(jpos=[x_inc, 0, 0, 0, 0, 0], vel_ratio=1.0, acc_ratio=1.0)\n"
   ]
  },
  {
   "cell_type": "code",
   "execution_count": null,
   "id": "9810e996-4790-4954-b1b3-4eafc8b4505c",
   "metadata": {},
   "outputs": [],
   "source": [
    "indy.stop_teleop()"
   ]
  },
  {
   "cell_type": "code",
   "execution_count": null,
   "id": "af8e3038",
   "metadata": {},
   "outputs": [],
   "source": [
    "indy.get_teleop_device()"
   ]
  },
  {
   "cell_type": "code",
   "execution_count": null,
   "id": "20a52ac2",
   "metadata": {},
   "outputs": [],
   "source": [
    "indy.get_teleop_state()"
   ]
  },
  {
   "cell_type": "code",
   "execution_count": null,
   "id": "f1c77701",
   "metadata": {},
   "outputs": [],
   "source": [
    "indy.get_play_rate()"
   ]
  },
  {
   "cell_type": "code",
   "execution_count": null,
   "id": "4727675a",
   "metadata": {},
   "outputs": [],
   "source": [
    "indy.get_tele_file_list()"
   ]
  },
  {
   "cell_type": "markdown",
   "id": "c1ee2432-741a-42f8-a95f-340c84d6124f",
   "metadata": {},
   "source": [
    "## Inverse Kinematics and Simulation mode"
   ]
  },
  {
   "cell_type": "code",
   "execution_count": null,
   "id": "3a6aa80f-aa77-4869-a9ad-4cb17a8a3d88",
   "metadata": {},
   "outputs": [],
   "source": [
    "indy.get_control_data()['p']"
   ]
  },
  {
   "cell_type": "code",
   "execution_count": null,
   "id": "42382ef8-ded1-4eb6-bbf7-e7a1892a151f",
   "metadata": {},
   "outputs": [],
   "source": [
    "tpos = indy.get_control_data()['p']\n",
    "init_jpos = indy.get_control_data()['q']\n",
    "\n",
    "print(\"Current tpos\", tpos)\n",
    "print(\"Current jpos\", init_jpos)\n",
    "\n",
    "indy.inverse_kin(tpos, init_jpos)"
   ]
  },
  {
   "cell_type": "code",
   "execution_count": null,
   "id": "168e8b6f-5e48-40f4-9012-609b0b7d67ba",
   "metadata": {},
   "outputs": [],
   "source": [
    "indy.set_direct_teaching(False)"
   ]
  },
  {
   "cell_type": "markdown",
   "id": "e8c348d6-5c1f-4bdb-be61-9b816adfbd49",
   "metadata": {},
   "source": [
    "### Calculate relative pose"
   ]
  },
  {
   "cell_type": "code",
   "execution_count": null,
   "id": "60b5cfb9-1a45-4e8c-99e4-62834146d109",
   "metadata": {},
   "outputs": [],
   "source": [
    "tpos1 = [200.41444, 368.4608, 616.946, 150.90015, -1.0546277, 30.016459]\n",
    "tpos2 = [333.41444, 368.4608, 616.946, 179.90015, -1.0546277, 30.016459]\n",
    "\n",
    "indy.calculate_relative_pose(start_pos=tpos1, end_pos=tpos2)"
   ]
  },
  {
   "cell_type": "code",
   "execution_count": null,
   "id": "e62d803f-bc1b-44af-ae4c-fdf8433fb555",
   "metadata": {},
   "outputs": [],
   "source": [
    "tpos3 = [132.99998, 0.0, 0.0, 25.69598, 13.915254, 3.7340522]"
   ]
  },
  {
   "cell_type": "code",
   "execution_count": null,
   "id": "0f6f6f4a-7d12-4329-8220-838402e5752a",
   "metadata": {},
   "outputs": [],
   "source": [
    "indy.calculate_current_pose_rel(current_pos=tpos1, relative_pos=tpos3)"
   ]
  },
  {
   "cell_type": "markdown",
   "id": "ede6d031-8832-4a84-90f7-8cbccff33224",
   "metadata": {},
   "source": [
    "## Variable"
   ]
  },
  {
   "cell_type": "code",
   "execution_count": null,
   "id": "3880d2e3-f340-44ac-b67e-d07238376534",
   "metadata": {},
   "outputs": [],
   "source": [
    "# 전체 bool 변수 값 획득\n",
    "val = indy.get_bool_variable()\n",
    "val"
   ]
  },
  {
   "cell_type": "code",
   "execution_count": null,
   "id": "8c93382e-2e63-4bba-96d6-579563aedf1b",
   "metadata": {},
   "outputs": [],
   "source": [
    "# bool 변수 주소 100에 값 True 할당\n",
    "indy.set_bool_variable([{'addr': 100, 'value': True}])\n",
    "# bool 변수 주소 150에 값 False 할당\n",
    "indy.set_bool_variable([{'addr': 150, 'value': False}])"
   ]
  },
  {
   "cell_type": "code",
   "execution_count": null,
   "id": "4b61af29-4814-4b16-8598-acd5ffe0a86d",
   "metadata": {},
   "outputs": [],
   "source": [
    "# 전체 int 변수 값 획득\n",
    "val = indy.get_int_variable()\n",
    "val"
   ]
  },
  {
   "cell_type": "code",
   "execution_count": null,
   "id": "12d52143-393d-4fc1-817d-6a0d4e762df3",
   "metadata": {},
   "outputs": [],
   "source": [
    "# int 변수 주소 10에 값 20 할당\n",
    "indy.set_int_variable([{'addr': 10, 'value': 20}])\n",
    "# int 변수 주소 15에 값 5 할당\n",
    "indy.set_int_variable([{'addr': 15, 'value': 5}])"
   ]
  },
  {
   "cell_type": "code",
   "execution_count": null,
   "id": "ff62a41d-5f49-455b-80d9-2175d61bd4cb",
   "metadata": {},
   "outputs": [],
   "source": [
    "# 전체 float 변수 값 획득\n",
    "val = indy.get_float_variable()\n",
    "val"
   ]
  },
  {
   "cell_type": "code",
   "execution_count": null,
   "id": "d13bb625-7d60-4dc6-98ac-bd797ea194f7",
   "metadata": {},
   "outputs": [],
   "source": [
    "# float 변수 주소 10에 값 -23.3 할당\n",
    "indy.set_float_variable([{'addr': 10, 'value': -23.3}])\n",
    "# float 변수 주소 15에 값 55.12 할당\n",
    "indy.set_float_variable([{'addr': 15, 'value': 55.12}])"
   ]
  },
  {
   "cell_type": "code",
   "execution_count": null,
   "id": "3a7de6fe-9713-403c-9d9f-9f66584ac88c",
   "metadata": {},
   "outputs": [],
   "source": [
    "# 전체 jpos 변수 값 획득\n",
    "val = indy.get_jpos_variable()\n",
    "val"
   ]
  },
  {
   "cell_type": "code",
   "execution_count": null,
   "id": "f66cd946-a97d-4f65-9495-a07b7876f1f0",
   "metadata": {},
   "outputs": [],
   "source": [
    "# jpos 변수 주소 10에 값  [0,0,0,0,0,0] 할당\n",
    "indy.set_jpos_variable([{'addr': 0, 'jpos': [0,0,0,0,0,0]}])\n",
    "# jpos 변수 주소 15에 값 [10,10,10,10,10,10] 할당\n",
    "indy.set_jpos_variable([{'addr': 200, 'jpos': [10,10,10,10,10,10]}])"
   ]
  },
  {
   "cell_type": "code",
   "execution_count": null,
   "id": "a05a19d2-b82c-494e-b2d8-ee1d33ab1a06",
   "metadata": {},
   "outputs": [],
   "source": [
    "# 전체 tpos 변수 값 획득\n",
    "val = indy.get_tpos_variable()\n",
    "val"
   ]
  },
  {
   "cell_type": "code",
   "execution_count": null,
   "id": "f6630b0f-14c5-47f7-9dc1-72828fe94535",
   "metadata": {},
   "outputs": [],
   "source": [
    "# tpos 변수 주소 10에 값 [100,100,200,0,180,0] 할당\n",
    "indy.set_tpos_variable([{'addr': 10, 'tpos': [100,100,200,0,180,0]}])\n",
    "# jpos 변수 주소 20에 값 [100,100,350,0,180,0] 할당\n",
    "indy.set_tpos_variable([{'addr': 20, 'tpos': [100,100,350,0,180,0]}])"
   ]
  },
  {
   "cell_type": "markdown",
   "id": "8db7fda9-1040-472f-aa3f-be1b342bd8fd",
   "metadata": {},
   "source": [
    "## Program"
   ]
  },
  {
   "cell_type": "code",
   "execution_count": null,
   "id": "9d0efa3b-ec2f-46da-873d-1be5cd941442",
   "metadata": {},
   "outputs": [],
   "source": [
    "indy.play_program(prog_idx=1)"
   ]
  },
  {
   "cell_type": "code",
   "execution_count": null,
   "id": "59577a8e-c938-4851-b381-049aed454182",
   "metadata": {},
   "outputs": [],
   "source": [
    "indy.play_program(prog_name='t555.indy7v2.json')"
   ]
  },
  {
   "cell_type": "code",
   "execution_count": null,
   "id": "140271f7-817d-4642-bbbb-7ce817ba0f11",
   "metadata": {},
   "outputs": [],
   "source": [
    "indy.pause_program()"
   ]
  },
  {
   "cell_type": "code",
   "execution_count": null,
   "id": "d0e6c16a-a209-4bac-bec6-65bc97dc238a",
   "metadata": {},
   "outputs": [],
   "source": [
    "indy.resume_program()"
   ]
  },
  {
   "cell_type": "code",
   "execution_count": null,
   "id": "ac38dddb-cccc-4351-8443-d049c7eb8051",
   "metadata": {},
   "outputs": [],
   "source": [
    "indy.stop_program()"
   ]
  },
  {
   "cell_type": "code",
   "execution_count": null,
   "id": "4c219aef-fe9a-4540-92a3-355a5fb3f2f0",
   "metadata": {},
   "outputs": [],
   "source": [
    "indy.set_speed_ratio(10)"
   ]
  },
  {
   "cell_type": "code",
   "execution_count": null,
   "id": "e31dab8e-9dca-4d48-85ff-87b1701bbab7",
   "metadata": {},
   "outputs": [],
   "source": [
    "indy.set_speed_ratio(100)"
   ]
  },
  {
   "cell_type": "markdown",
   "id": "f2d4ad2a-d790-4f3d-8282-55029173491c",
   "metadata": {},
   "source": [
    "## Configuration"
   ]
  },
  {
   "cell_type": "code",
   "execution_count": null,
   "id": "76f2ca4f",
   "metadata": {},
   "outputs": [],
   "source": [
    "indy.get_pack_pos()"
   ]
  },
  {
   "cell_type": "code",
   "execution_count": null,
   "id": "cf6e0561-cce4-47a0-9408-c9b6dcd4cee2",
   "metadata": {},
   "outputs": [],
   "source": [
    "indy.get_home_pos()"
   ]
  },
  {
   "cell_type": "code",
   "execution_count": null,
   "id": "d36d05f5-5c99-4790-841e-d92196d9225c",
   "metadata": {},
   "outputs": [],
   "source": [
    "indy.set_home_pos([-150, 5.0, 90.0, 0.0, 85.0, 0.0])"
   ]
  },
  {
   "cell_type": "code",
   "execution_count": null,
   "id": "43aeef8e-b771-493f-b700-bebef23c8f6c",
   "metadata": {},
   "outputs": [],
   "source": [
    "indy.get_ref_frame()"
   ]
  },
  {
   "cell_type": "code",
   "execution_count": null,
   "id": "8488474e-ba68-45f1-a158-93a6a080a396",
   "metadata": {},
   "outputs": [],
   "source": [
    "indy.set_ref_frame([0.0, 0.0, 0.0, 0.0, 0.0, 0.0])"
   ]
  },
  {
   "cell_type": "code",
   "execution_count": null,
   "id": "4a35908f-efe0-4655-9bca-a9c5def3d521",
   "metadata": {},
   "outputs": [],
   "source": [
    "indy.get_ref_frame()"
   ]
  },
  {
   "cell_type": "code",
   "execution_count": null,
   "id": "1def6b5d-0542-4fe6-ab12-cf89e34d9ad1",
   "metadata": {},
   "outputs": [],
   "source": [
    "indy.get_friction_comp()"
   ]
  },
  {
   "cell_type": "code",
   "execution_count": null,
   "id": "75170d1f",
   "metadata": {},
   "outputs": [],
   "source": [
    "indy.get_friction_comp_state()"
   ]
  },
  {
   "cell_type": "code",
   "execution_count": null,
   "id": "5a0025f9-cac5-45a0-ba24-9b3c341addbd",
   "metadata": {},
   "outputs": [],
   "source": [
    "indy.get_tool_property()"
   ]
  },
  {
   "cell_type": "code",
   "execution_count": null,
   "id": "4530f422-9146-438a-9738-ad8c97a7d6d3",
   "metadata": {},
   "outputs": [],
   "source": [
    "indy.get_coll_sens_level()"
   ]
  },
  {
   "cell_type": "code",
   "execution_count": null,
   "id": "b8a0d4e6-e3a9-4e81-be08-1fe9a4784040",
   "metadata": {},
   "outputs": [],
   "source": [
    "indy.get_coll_sens_param()"
   ]
  },
  {
   "cell_type": "code",
   "execution_count": null,
   "id": "ece6e0a9-f0a5-4332-9227-eeb4db73aacc",
   "metadata": {},
   "outputs": [],
   "source": [
    "indy.get_coll_policy()"
   ]
  },
  {
   "cell_type": "code",
   "execution_count": null,
   "id": "4316f92d-ad20-4bf9-87ec-94a3f820ddc7",
   "metadata": {},
   "outputs": [],
   "source": [
    "indy.get_safety_limits()"
   ]
  },
  {
   "cell_type": "code",
   "execution_count": null,
   "id": "77c11cbf-5ffc-44a6-92aa-40c11c2735c7",
   "metadata": {},
   "outputs": [],
   "source": [
    "indy.set_safety_limits()"
   ]
  },
  {
   "cell_type": "code",
   "execution_count": null,
   "id": "7851c565-f611-470a-bd0b-20028b61c44d",
   "metadata": {},
   "outputs": [],
   "source": [
    "indy.get_coll_policy()"
   ]
  },
  {
   "cell_type": "code",
   "execution_count": null,
   "id": "e2f0ffe6",
   "metadata": {},
   "outputs": [],
   "source": [
    "indy.get_mount_pos()"
   ]
  },
  {
   "cell_type": "code",
   "execution_count": null,
   "id": "b94757b0",
   "metadata": {},
   "outputs": [],
   "source": [
    "indy.get_el5001()"
   ]
  },
  {
   "cell_type": "code",
   "execution_count": null,
   "id": "0ac389a1",
   "metadata": {},
   "outputs": [],
   "source": [
    "indy.get_el5101()"
   ]
  },
  {
   "cell_type": "code",
   "execution_count": null,
   "id": "03ed3866",
   "metadata": {},
   "outputs": [],
   "source": [
    "indy.get_brake_control_style()"
   ]
  },
  {
   "cell_type": "markdown",
   "id": "6cf8f85c-ea60-4762-9e51-6f1b1f8f4885",
   "metadata": {},
   "source": [
    "## IndySDK related"
   ]
  },
  {
   "cell_type": "code",
   "execution_count": null,
   "id": "e43f75d1-2e0c-4d23-99a3-040b776e5cf1",
   "metadata": {},
   "outputs": [],
   "source": [
    "indy.activate_sdk(license_key=\"\", expire_date=\"2024-12-20\")"
   ]
  },
  {
   "cell_type": "code",
   "execution_count": null,
   "id": "e5b59d1d-9d84-4ca0-8b47-5c067cc08672",
   "metadata": {},
   "outputs": [],
   "source": [
    "indy.get_custom_control_mode()"
   ]
  },
  {
   "cell_type": "markdown",
   "id": "0328bed5-6add-4f2e-b3eb-273eabec16f6",
   "metadata": {},
   "source": [
    "## Utility Functions"
   ]
  },
  {
   "cell_type": "code",
   "execution_count": null,
   "id": "f5987246-4186-46c2-ad3d-351c998acb84",
   "metadata": {},
   "outputs": [],
   "source": [
    "indy.start_log()"
   ]
  },
  {
   "cell_type": "code",
   "execution_count": null,
   "id": "36047a98-0a36-4237-bc40-949e36532d71",
   "metadata": {},
   "outputs": [],
   "source": [
    "indy.end_log()"
   ]
  },
  {
   "cell_type": "code",
   "execution_count": null,
   "id": "18c3dc1d",
   "metadata": {},
   "outputs": [],
   "source": [
    "IDLE = 5\n",
    "indy.wait_for_operation_state(wait_op_state=IDLE)\n",
    "\n",
    "#is_target_reached\n",
    "#is_in_motion\n",
    "#is_pausing\n",
    "#is_stopping\n",
    "#has_motion\n",
    "indy.wait_for_motion_state(wait_motion_state='is_target_reached')"
   ]
  },
  {
   "cell_type": "markdown",
   "id": "ebaef9fe-b129-46dd-af5e-6e7a114cb6f4",
   "metadata": {},
   "source": [
    "## Custom Control Gain Example"
   ]
  },
  {
   "cell_type": "markdown",
   "id": "ffe57885-210c-4f36-850d-efaf1d5106e9",
   "metadata": {},
   "source": [
    "### Set Control Gain"
   ]
  },
  {
   "cell_type": "code",
   "execution_count": null,
   "id": "0d8aea84-591b-4005-85d1-982dc2dbc67a",
   "metadata": {
    "ExecuteTime": {
     "end_time": "2024-07-10T16:33:54.395795Z",
     "start_time": "2024-07-10T16:33:54.381147Z"
    }
   },
   "outputs": [],
   "source": [
    "# gain0 = Kp for Joint\n",
    "# gain1 = Kv for Joint\n",
    "# gain2 = KL2 for Joint\n",
    "# gain3 = Kp for Task\n",
    "# gain4 = Kv for Task\n",
    "# gain5 = KL2 for Task\n",
    "\n",
    "# default gain\n",
    "gain0 = [100, 100, 100, 100, 100, 100]\n",
    "gain1 = [20, 20, 20, 20, 20, 20]\n",
    "gain2 = [800, 800, 600, 400, 400, 400]\n",
    "gain3 = [100, 100, 100, 100, 100, 100]\n",
    "gain4 = [20, 20, 20, 20, 20, 20]\n",
    "gain5 = [800, 800, 600, 400, 400, 400]\n",
    "\n",
    "indy.set_custom_control_gain(gain0=gain0, gain1=gain1, gain2=gain2, gain3=gain3, gain4=gain4, gain5=gain5)"
   ]
  },
  {
   "cell_type": "code",
   "execution_count": null,
   "id": "ca2106f9-c422-4779-85c2-595f0f606d8d",
   "metadata": {
    "ExecuteTime": {
     "end_time": "2024-07-10T16:34:04.507408Z",
     "start_time": "2024-07-10T16:34:04.499593Z"
    }
   },
   "outputs": [],
   "source": [
    "indy.get_custom_control_gain()"
   ]
  },
  {
   "cell_type": "markdown",
   "id": "159e730f-289c-439d-8869-2e548880be26",
   "metadata": {},
   "source": [
    "### Set Control Mode"
   ]
  },
  {
   "cell_type": "code",
   "execution_count": null,
   "id": "8e96e899-c223-4dd1-96ae-37ad85dc0afb",
   "metadata": {
    "ExecuteTime": {
     "end_time": "2024-07-10T16:34:11.433767Z",
     "start_time": "2024-07-10T16:34:11.424431Z"
    }
   },
   "outputs": [],
   "source": [
    "mode = 1\n",
    "indy.set_custom_control_mode(mode=mode)"
   ]
  },
  {
   "cell_type": "code",
   "execution_count": null,
   "id": "7dadc517-206b-4756-beb5-581071ca5397",
   "metadata": {
    "ExecuteTime": {
     "end_time": "2024-07-10T16:34:14.034069Z",
     "start_time": "2024-07-10T16:34:14.025288Z"
    }
   },
   "outputs": [],
   "source": [
    "indy.get_custom_control_mode()"
   ]
  },
  {
   "cell_type": "markdown",
   "id": "bce6879a-3bc2-4683-b4e0-d1389ffab7f3",
   "metadata": {},
   "source": [
    "### Send Joint Target"
   ]
  },
  {
   "cell_type": "code",
   "execution_count": null,
   "id": "02bd2528-6694-4ab7-a69b-db8dd34738c8",
   "metadata": {
    "ExecuteTime": {
     "end_time": "2024-07-10T16:34:17.485698Z",
     "start_time": "2024-07-10T16:34:17.479828Z"
    }
   },
   "outputs": [],
   "source": [
    "def joint_move(jtarget):\n",
    "    flag = 0\n",
    "    while(True):\n",
    "        if flag == 0:\n",
    "            indy.movej(jtarget = jtarget)\n",
    "            while(True):\n",
    "                if indy.get_motion_data()['is_target_reached'] == False:\n",
    "                    flag = 1\n",
    "                    break\n",
    "        else:\n",
    "            if indy.get_motion_data()['is_target_reached']:\n",
    "                flag = 0\n",
    "                break"
   ]
  },
  {
   "cell_type": "code",
   "execution_count": null,
   "id": "3c1a8c45-a3f9-4dc8-bdfe-a2ffeb35abcb",
   "metadata": {
    "ExecuteTime": {
     "end_time": "2024-07-10T16:35:03.297721Z",
     "start_time": "2024-07-10T16:34:41.603875Z"
    }
   },
   "outputs": [],
   "source": [
    "print(\"start\")\n",
    "joint_move(jtarget = [0,0,0,0,0,0])\n",
    "joint_move(jtarget = [-44,25,-63,48,-7,-105])\n",
    "joint_move(jtarget = [0,0,90,0,90,0])\n",
    "joint_move(jtarget = [-145,31,-33,117,-7,-133])\n",
    "joint_move(jtarget = [-90,-15,-90,0,-75,0])\n",
    "print(\"finish\")"
   ]
  },
  {
   "cell_type": "markdown",
   "id": "9f495eef-b14e-4077-afad-67958a4ce646",
   "metadata": {},
   "source": [
    "### Change Custom Gain and Send Joint Target"
   ]
  },
  {
   "cell_type": "code",
   "execution_count": null,
   "id": "f9d2b013-67b7-4f8d-908d-ae0879d3957d",
   "metadata": {
    "ExecuteTime": {
     "end_time": "2024-07-10T16:35:27.420756Z",
     "start_time": "2024-07-10T16:35:27.410395Z"
    }
   },
   "outputs": [],
   "source": [
    "# gain2 value is changed from default\n",
    "gain0 = [100, 100, 100,100, 100, 100]\n",
    "gain1 = [20, 20, 20, 20, 20, 20]\n",
    "gain2 = [900, 900, 500, 300, 300, 300]\n",
    "gain3 = [100, 100, 100,100, 100, 100]\n",
    "gain4 = [20, 20, 20, 20, 20, 20]\n",
    "gain5 = [800, 800, 600, 400, 400, 400]\n",
    "\n",
    "indy.set_custom_control_gain(gain0=gain0, gain1=gain1, gain2=gain2, gain3=gain3, gain4=gain4, gain5=gain5)"
   ]
  },
  {
   "cell_type": "code",
   "execution_count": null,
   "id": "48f3b801-8a44-4556-a3a9-1f35568e3ce8",
   "metadata": {
    "ExecuteTime": {
     "end_time": "2024-07-10T16:35:30.825961Z",
     "start_time": "2024-07-10T16:35:30.819084Z"
    }
   },
   "outputs": [],
   "source": [
    "indy.get_custom_control_gain()"
   ]
  },
  {
   "cell_type": "code",
   "execution_count": null,
   "id": "4809844c-eff8-4f0c-bd5a-621a0c97ab93",
   "metadata": {
    "ExecuteTime": {
     "end_time": "2024-07-10T16:35:57.564020Z",
     "start_time": "2024-07-10T16:35:35.876112Z"
    }
   },
   "outputs": [],
   "source": [
    "print(\"start\")\n",
    "joint_move(jtarget = [0,0,0,0,0,0])\n",
    "joint_move(jtarget = [-44,25,-63,48,-7,-105])\n",
    "joint_move(jtarget = [0,0,90,0,90,0])\n",
    "joint_move(jtarget = [-145,31,-33,117,-7,-133])\n",
    "joint_move(jtarget = [-90,-15,-90,0,-75,0])\n",
    "print(\"finish\")"
   ]
  },
  {
   "cell_type": "markdown",
   "id": "ca35e3af-c6a2-4bbc-9f04-62b93aa18e92",
   "metadata": {},
   "source": [
    "### Send Task Target"
   ]
  },
  {
   "cell_type": "code",
   "execution_count": null,
   "id": "abba16d5-648c-4ea0-a716-2da4449cf718",
   "metadata": {
    "ExecuteTime": {
     "end_time": "2024-07-10T16:36:01.752632Z",
     "start_time": "2024-07-10T16:36:01.746769Z"
    }
   },
   "outputs": [],
   "source": [
    "def task_move(ttarget):\n",
    "    flag = 0\n",
    "    while(True):\n",
    "        if flag == 0:\n",
    "            indy.movel(ttarget = ttarget)\n",
    "            while(True):\n",
    "                if indy.get_motion_data()['is_target_reached'] == False:\n",
    "                    flag = 1\n",
    "                    break\n",
    "        else:\n",
    "            if indy.get_motion_data()['is_target_reached']:\n",
    "                flag = 0\n",
    "                break"
   ]
  },
  {
   "cell_type": "code",
   "execution_count": null,
   "id": "389f4c08-9834-459b-ab7b-a3b71a1efd07",
   "metadata": {
    "ExecuteTime": {
     "end_time": "2024-07-10T16:36:35.869376Z",
     "start_time": "2024-07-10T16:36:22.025164Z"
    }
   },
   "outputs": [],
   "source": [
    "print(\"start\")\n",
    "task_move(ttarget = [-186.54, -454.45, 415.61, 179.99, -0.06,89.98])\n",
    "task_move(ttarget = [-334.67, -493.07, 259.00, 179.96, -0.12, 89.97])\n",
    "task_move(ttarget = [224.79, -490.20, 508.08, 179.96, -0.14, 89.97])\n",
    "task_move(ttarget = [-129.84, -416.84, 507.38, 179.95, -0.16, 89.96])\n",
    "task_move(ttarget = [-186.54, -454.45, 415.61, 179.99, -0.06,89.98])\n",
    "print(\"finish\")\n"
   ]
  },
  {
   "cell_type": "code",
   "execution_count": null,
   "id": "9980e333-29f4-44ac-9144-6ab82b1e61d1",
   "metadata": {
    "ExecuteTime": {
     "end_time": "2024-07-10T16:36:39.913847Z",
     "start_time": "2024-07-10T16:36:39.905055Z"
    }
   },
   "outputs": [],
   "source": [
    "# gain5 value is changed from default\n",
    "gain0 = [100, 100, 100,100, 100, 100]\n",
    "gain1 = [20, 20, 20, 20, 20, 20]\n",
    "gain2 = [800, 800, 600, 400, 400, 400]\n",
    "gain3 = [100, 100, 100,100, 100, 100]\n",
    "gain4 = [20, 20, 20, 20, 20, 20]\n",
    "gain5 = [900, 900, 500, 300, 300, 300]\n",
    "\n",
    "indy.set_custom_control_gain(gain0=gain0, gain1=gain1, gain2=gain2, gain3=gain3, gain4=gain4, gain5=gain5)"
   ]
  },
  {
   "cell_type": "code",
   "execution_count": null,
   "id": "e3f3b3d5-9c27-4a9d-b47a-194f873d5584",
   "metadata": {
    "ExecuteTime": {
     "end_time": "2024-07-10T16:36:42.289700Z",
     "start_time": "2024-07-10T16:36:42.280911Z"
    }
   },
   "outputs": [],
   "source": [
    "indy.get_custom_control_gain()"
   ]
  },
  {
   "cell_type": "code",
   "execution_count": null,
   "id": "7c70457d-6ae2-4248-acd3-3d59c611218b",
   "metadata": {
    "ExecuteTime": {
     "end_time": "2024-07-10T16:37:03.119898Z",
     "start_time": "2024-07-10T16:36:49.467487Z"
    }
   },
   "outputs": [],
   "source": [
    "print(\"start\")\n",
    "task_move(ttarget = [-186.54, -454.45, 415.61, 179.99, -0.06,89.98])\n",
    "task_move(ttarget = [-334.67, -493.07, 259.00, 179.96, -0.12, 89.97])\n",
    "task_move(ttarget = [224.79, -490.20, 508.08, 179.96, -0.14, 89.97])\n",
    "task_move(ttarget = [-129.84, -416.84, 507.38, 179.95, -0.16, 89.96])\n",
    "task_move(ttarget = [-186.54, -454.45, 415.61, 179.99, -0.06,89.98])\n",
    "print(\"finish\")"
   ]
  },
  {
   "cell_type": "code",
   "execution_count": null,
   "id": "8bc59d38-c177-4bef-8340-7092f881ef5f",
   "metadata": {
    "ExecuteTime": {
     "end_time": "2024-07-10T16:37:06.085944Z",
     "start_time": "2024-07-10T16:37:06.078767Z"
    }
   },
   "outputs": [],
   "source": [
    "mode = 0\n",
    "indy.set_custom_control_mode(mode=mode)"
   ]
  },
  {
   "cell_type": "code",
   "execution_count": null,
   "id": "04a5dc7e-0f86-4769-8927-ae089b2e5201",
   "metadata": {
    "ExecuteTime": {
     "end_time": "2024-07-10T16:37:09.031023Z",
     "start_time": "2024-07-10T16:37:09.022251Z"
    }
   },
   "outputs": [],
   "source": [
    "indy.get_custom_control_mode()"
   ]
  },
  {
   "cell_type": "code",
   "execution_count": null,
   "id": "bf085f9d",
   "metadata": {},
   "outputs": [],
   "source": [
    "indy.get_joint_control_gain()"
   ]
  },
  {
   "cell_type": "code",
   "execution_count": null,
   "id": "ec3095f9",
   "metadata": {},
   "outputs": [],
   "source": [
    "indy.get_task_control_gain()"
   ]
  },
  {
   "cell_type": "code",
   "execution_count": null,
   "id": "d0be3f18",
   "metadata": {},
   "outputs": [],
   "source": [
    "indy.get_impedance_control_gain()"
   ]
  },
  {
   "cell_type": "code",
   "execution_count": null,
   "id": "1a240a42",
   "metadata": {},
   "outputs": [],
   "source": [
    "indy.get_force_control_gain()"
   ]
  },
  {
   "cell_type": "markdown",
   "id": "4b9756db",
   "metadata": {},
   "source": [
    "### Conty Functions"
   ]
  },
  {
   "cell_type": "code",
   "execution_count": null,
   "id": "da83ecd9",
   "metadata": {},
   "outputs": [],
   "source": [
    "indy.ping_from_conty()"
   ]
  },
  {
   "cell_type": "code",
   "execution_count": null,
   "id": "cd319034",
   "metadata": {},
   "outputs": [],
   "source": [
    "indy.load_reference_frame()"
   ]
  },
  {
   "cell_type": "code",
   "execution_count": null,
   "id": "f9e13290",
   "metadata": {},
   "outputs": [],
   "source": [
    "frames = [\n",
    "        {\n",
    "            'name': 'ref_0',\n",
    "            'tpos': [0.0, 0.0, 0.0, 0.0, 0.0, 0.0],\n",
    "            'tpos0': [],\n",
    "            'tpos1': [],\n",
    "            'tpos2': [],\n",
    "            'jpos0': [],\n",
    "            'jpos1': [],\n",
    "            'jpos2': []\n",
    "        },\n",
    "        {\n",
    "            'name': 'ref_1',\n",
    "            'tpos': [0.02, 0.0, 0.0, 0.0, 0.0, 0.0],\n",
    "            'tpos0': [0.0, 0.0, 0.0, 0.0, 0.0, 0.0],\n",
    "            'tpos1': [0.0, 0.0, 0.0, 0.0, 0.0, 0.0],\n",
    "            'tpos2': [0.0, 0.0, 0.0, 0.0, 0.0, 0.0],\n",
    "            'jpos0': [0.0, 0.0, 0.0, 0.0, 0.0, 0.0],\n",
    "            'jpos1': [0.0, 0.0, 0.0, 0.0, 0.0, 0.0],\n",
    "            'jpos2': [0.0, 0.0, 0.0, 0.0, 0.0, 0.0]\n",
    "        }\n",
    "    ]\n",
    "default_name = 'ref_0'\n",
    "\n",
    "indy.save_reference_frame(frames, default_name)"
   ]
  }
 ],
 "metadata": {
  "kernelspec": {
   "display_name": ".venv",
   "language": "python",
   "name": "python3"
  },
  "language_info": {
   "codemirror_mode": {
    "name": "ipython",
    "version": 3
   },
   "file_extension": ".py",
   "mimetype": "text/x-python",
   "name": "python",
   "nbconvert_exporter": "python",
   "pygments_lexer": "ipython3",
   "version": "3.7.9"
  }
 },
 "nbformat": 4,
 "nbformat_minor": 5
}
