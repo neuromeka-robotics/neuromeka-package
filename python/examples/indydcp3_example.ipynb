{
 "cells": [
  {
   "cell_type": "markdown",
   "id": "849d3b34-d92a-4386-99da-c94da860656c",
   "metadata": {},
   "source": [
    "## Import client package\n",
    "* ip_addr: Robot ip address\n",
    "* index: 양팔로봇 사용 시 "
   ]
  },
  {
   "cell_type": "code",
   "execution_count": 1,
   "id": "aef98a24-721b-46c2-8f43-bf0f26ce6fbf",
   "metadata": {
    "scrolled": true
   },
   "source": [
    "try:    \n",
    "    # Use installed PyPI package\n",
    "    from neuromeka import IndyDCP3 \n",
    "except ModuleNotFoundError:\n",
    "    # Use code in local\n",
    "    import sys\n",
    "    sys.path.append(\"../../python\")\n",
    "    from neuromeka import IndyDCP3\n",
    "\n",
    "step_ip = \"192.168.5.115\"\n",
    "indy = IndyDCP3(step_ip)"
   ],
   "outputs": []
  },
  {
   "cell_type": "markdown",
   "id": "37a15ea8-0c5d-4de9-835d-9965d99f7d39",
   "metadata": {},
   "source": [
    "## Robot information data \n",
    "\n",
    "* `indy.get_motion_data()`\n",
    "* `indy.get_control_data()`\n",
    "* `indy.get_control_state()`\n",
    "* `indy.get_servo_data()`\n",
    "* `indy.get_violation_data()`\n",
    "* `indy.get_program_data()`"
   ]
  },
  {
   "cell_type": "code",
   "execution_count": 7,
   "id": "23f2a13c-0d21-48ce-8c46-654d86ad41cc",
   "metadata": {},
   "source": [
    "indy.get_robot_data()"
   ],
   "outputs": []
  },
  {
   "cell_type": "code",
   "execution_count": 8,
   "id": "1c5afbbe-7f27-4ed1-80dc-eb59a68bbd42",
   "metadata": {},
   "source": [
    "from neuromeka import OpState\n",
    "OpState.IDLE"
   ],
   "outputs": []
  },
  {
   "cell_type": "code",
   "execution_count": 9,
   "id": "49b0956c-99f2-4be3-aba8-e7df6c6f92c5",
   "metadata": {},
   "source": [
    "indy.get_control_state()"
   ],
   "outputs": []
  },
  {
   "cell_type": "code",
   "execution_count": 10,
   "id": "7bee76db-e0e3-46e1-af9d-eccccdc42ebf",
   "metadata": {},
   "source": [
    "indy.get_motion_data()"
   ],
   "outputs": []
  },
  {
   "cell_type": "code",
   "execution_count": 11,
   "id": "f0ec5ff8-f2ba-4a52-b977-d03f7c4631d6",
   "metadata": {},
   "source": [
    "from neuromeka import TrajState\n",
    "TrajState.ACC"
   ],
   "outputs": []
  },
  {
   "cell_type": "code",
   "execution_count": 12,
   "id": "3e6992ea-5f95-4d9d-beb8-98294d338f14",
   "metadata": {
    "scrolled": true
   },
   "source": [
    "indy.get_servo_data()"
   ],
   "outputs": []
  },
  {
   "cell_type": "code",
   "execution_count": 13,
   "id": "5a145b9e-b6dd-49a9-96d9-1e800239fa25",
   "metadata": {},
   "source": [
    "indy.get_violation_data()"
   ],
   "outputs": []
  },
  {
   "cell_type": "code",
   "execution_count": 14,
   "id": "f370e0b1-1ebe-400c-8844-5906c2701860",
   "metadata": {},
   "source": [
    "indy.get_program_data()"
   ],
   "outputs": []
  },
  {
   "cell_type": "code",
   "execution_count": 15,
   "id": "cb22d2e4-eb40-4f7a-97d6-c28effb03c59",
   "metadata": {},
   "source": [
    "from neuromeka import ProgramState\n",
    "ProgramState.STOPPING"
   ],
   "outputs": []
  },
  {
   "cell_type": "markdown",
   "id": "9055c39c-9ca7-42e0-96de-2537f212b937",
   "metadata": {},
   "source": [
    "## Input/Output Device Related Functions\n",
    "\n",
    "* `get_di()`\n",
    "* `get_do()`\n",
    "* `set_do(do_signal_list)`\n",
    "* `get_ai()`\n",
    "* `get_ao()`\n",
    "* `set_ao(ao_signal_list)`\n",
    "* `get_endtool_di()`\n",
    "* `get_endtool_do()`\n",
    "* `set_endtool_do(end_do_signal_list)`\n",
    "* `get_endtool_ai()`\n",
    "* `get_endtool_ao()`\n",
    "* `get_device_info()`\n",
    "* `get_ft_sensor_data()`"
   ]
  },
  {
   "cell_type": "code",
   "execution_count": 220,
   "id": "9a0bc96b-7501-4e27-add3-ba20b81d1822",
   "metadata": {
    "scrolled": true
   },
   "source": [
    "indy.get_di()"
   ],
   "outputs": []
  },
  {
   "cell_type": "code",
   "execution_count": 228,
   "id": "5b0e7de3-a9f7-4129-9ff3-20f168b560e6",
   "metadata": {
    "scrolled": true
   },
   "source": [
    "from neuromeka import DigitalState\n",
    "\n",
    "signal = [{'address': 1, 'state': DigitalState.OFF}]\n",
    "indy.set_do(signal)\n",
    "\n",
    "indy.get_do()"
   ],
   "outputs": []
  },
  {
   "cell_type": "code",
   "execution_count": 230,
   "id": "fa5351ce-c08f-4cce-9bb4-4c4106d12706",
   "metadata": {
    "scrolled": true
   },
   "source": [
    "signal = [{'address': 1, 'state': DigitalState.OFF}, \n",
    "         {'address': 5, 'state': DigitalState.ON}, \n",
    "         {'address': 9, 'state': DigitalState.ON}]\n",
    "indy.set_do(signal)\n",
    "indy.get_do()"
   ],
   "outputs": []
  },
  {
   "cell_type": "code",
   "execution_count": 231,
   "id": "eea5f839-6afd-4255-b73b-e3a424a2c39b",
   "metadata": {},
   "source": [
    "indy.get_ai()"
   ],
   "outputs": []
  },
  {
   "cell_type": "code",
   "execution_count": 232,
   "id": "ad89ddfc-2ed2-44c2-a57b-c75cbfad2e20",
   "metadata": {},
   "source": [
    "indy.get_ao()"
   ],
   "outputs": []
  },
  {
   "cell_type": "code",
   "execution_count": 242,
   "id": "681567eb-fd4c-44a5-82f6-fba50a8414e1",
   "metadata": {
    "scrolled": true
   },
   "source": [
    "signal = [{'address': 0, 'voltage': 7}, \n",
    "         {'address': 1, 'voltage': 2}]\n",
    "indy.set_ao(signal)\n",
    "\n",
    "indy.get_ao()"
   ],
   "outputs": []
  },
  {
   "cell_type": "code",
   "execution_count": 2,
   "id": "1cbf3deb-a276-47b3-9e9b-35257d0e2975",
   "metadata": {},
   "source": [
    "indy.get_endtool_di()"
   ],
   "outputs": []
  },
  {
   "cell_type": "code",
   "execution_count": 9,
   "id": "31bedcc2-16f2-4d12-bf0d-db39504ba87b",
   "metadata": {},
   "source": [
    "EndtoolState.LOW_PNP"
   ],
   "outputs": []
  },
  {
   "cell_type": "code",
   "execution_count": 15,
   "id": "31923ca7-3aa2-481a-ae15-00310e1d795e",
   "metadata": {},
   "source": [
    "# RevC board, DO 1 입력\n",
    "signal = [{'port': 'C', 'states': [EndtoolState.HIGH_PNP]}]\n",
    "indy.set_endtool_do(signal)\n",
    "\n",
    "indy.get_endtool_do()"
   ],
   "outputs": []
  },
  {
   "cell_type": "code",
   "execution_count": 11,
   "id": "2142933a-0f4d-4e60-b7c2-70355bea247c",
   "metadata": {},
   "source": [
    "from neuromeka import EndtoolState\n",
    "\n",
    "signal = [{'port': 'A', 'states': [EndtoolState.HIGH_PNP, EndtoolState.HIGH_PNP]},\n",
    "         {'port': 'B', 'states': [EndtoolState.HIGH_NPN, EndtoolState.HIGH_NPN]}]\n",
    "indy.set_endtool_do(signal)\n",
    "\n",
    "indy.get_endtool_do()"
   ],
   "outputs": []
  },
  {
   "cell_type": "code",
   "execution_count": 12,
   "id": "d0e425c8-1a79-48f5-b349-49e04510993b",
   "metadata": {},
   "source": [
    "indy.get_endtool_ao()"
   ],
   "outputs": []
  },
  {
   "cell_type": "code",
   "execution_count": 18,
   "id": "0d08357c-7c99-462b-995b-91dd4e80dee7",
   "metadata": {},
   "source": [
    "# indy.set_endtool_ai()"
   ],
   "outputs": []
  },
  {
   "cell_type": "code",
   "execution_count": 20,
   "id": "bbdb00b1-696b-4b2c-b9f5-44be1e310e40",
   "metadata": {},
   "source": [
    "indy.get_device_info()"
   ],
   "outputs": []
  },
  {
   "cell_type": "code",
   "execution_count": 21,
   "id": "2e9ecf6d-1837-4f5b-9364-ee2f58e00e20",
   "metadata": {},
   "source": [
    "indy.get_ft_sensor_data()"
   ],
   "outputs": []
  },
  {
   "cell_type": "markdown",
   "id": "4d3f1731-846d-43a1-b87c-95e014c04df4",
   "metadata": {},
   "source": [
    "## Motion Command Data Related Functions\n",
    "\n",
    "* `stop_motion(stop_category)`\n",
    "* `movej(jtarget, blending_type, base_type, blending_radius, vel_ratio, acc_ratio, post_condition, teaching_mode)`\n",
    "* `movej_time(jtarget, blending_type, base_type, blending_radius, move_time, post_condition)`\n",
    "* `movel(ttarget, blending_type, base_type, blending_radius, vel_ratio, acc_ratio, post_condition, teaching_mode)`\n",
    "* `movel_time(ttarget, blending_type, base_type, blending_radius, move_time, post_condition)`\n",
    "* `movec(tpos0, tpos1, blending_type, base_type, angle=90.0, setting_type, move_type, blending_radius, vel_ratio, acc_ratio, post_condition, teaching_mode)`"
   ]
  },
  {
   "cell_type": "code",
   "execution_count": 32,
   "id": "7c6bce76-3c69-4e5c-b830-e39665df893c",
   "metadata": {},
   "source": [
    "from neuromeka import StopCategory\n",
    "\n",
    "indy.stop_motion(StopCategory.CAT2)"
   ],
   "outputs": []
  },
  {
   "cell_type": "markdown",
   "id": "7f79c8ed-054a-464c-9edf-b327c3804ee7",
   "metadata": {},
   "source": [
    "### move_home()"
   ]
  },
  {
   "cell_type": "code",
   "execution_count": 41,
   "id": "57faa566-4254-46be-8432-e96fef00787a",
   "metadata": {},
   "source": [
    "indy.move_home()"
   ],
   "outputs": []
  },
  {
   "cell_type": "markdown",
   "id": "e06db4ad-7496-4e0a-aba2-6a4207f95927",
   "metadata": {},
   "source": [
    "### movej"
   ]
  },
  {
   "cell_type": "code",
   "execution_count": 8,
   "id": "3743f6d0-a985-4c55-b942-a0fd3bce97b4",
   "metadata": {},
   "source": [
    "target_pos = [0, 0, -90, 0, -90, 0]\n",
    "indy.movej(jtarget=target_pos)"
   ],
   "outputs": []
  },
  {
   "cell_type": "code",
   "execution_count": 9,
   "id": "0397a068-70c3-480d-a9f1-352df8fe4ec0",
   "metadata": {},
   "source": [
    "target_pos = [50, 0, -90, 0, -90, 0]\n",
    "indy.movej(jtarget=target_pos, vel_ratio=100, acc_ratio=300)"
   ],
   "outputs": []
  },
  {
   "cell_type": "code",
   "execution_count": 109,
   "id": "c36555b2-d603-44ee-88fd-c3883ab252e4",
   "metadata": {},
   "source": [
    "from neuromeka import JointBaseType\n",
    "\n",
    "target_pos = [50, 0, -90, 0, -90, 0]\n",
    "indy.movej(jtarget=target_pos, base_type=JointBaseType.ABSOLUTE)"
   ],
   "outputs": []
  },
  {
   "cell_type": "code",
   "execution_count": 104,
   "id": "c7a83c77-358b-47b9-bb92-65dfc2153509",
   "metadata": {},
   "source": [
    "target_pos = [50, 0, 0, 0, 0, 0]\n",
    "indy.movej(jtarget=target_pos, base_type=JointBaseType.RELATIVE)"
   ],
   "outputs": []
  },
  {
   "cell_type": "code",
   "execution_count": 110,
   "id": "0944d529-85cf-4e09-b675-9ec9fa308db1",
   "metadata": {
    "scrolled": true
   },
   "source": [
    "target_pos = [100, 0, -90, 0, -90, 0]\n",
    "\n",
    "for i in range(0,20):\n",
    "    time.sleep(0.1)\n",
    "    indy.movej(jtarget=target_pos, vel_ratio=50, acc_ratio=100, teaching_mode=True)"
   ],
   "outputs": []
  },
  {
   "cell_type": "markdown",
   "id": "976add4e-ccbd-472f-b58d-e5727882c1ac",
   "metadata": {},
   "source": [
    "### movej_time"
   ]
  },
  {
   "cell_type": "code",
   "execution_count": 68,
   "id": "be2368aa-1d75-44eb-bde1-dea7501edcd4",
   "metadata": {},
   "source": [
    "target_pos = [-100, 0, 90, 0, 90, 0]\n",
    "indy.movej_time(jtarget=target_pos, move_time=5)"
   ],
   "outputs": []
  },
  {
   "cell_type": "markdown",
   "id": "ee32168d-a3d6-4add-acd8-342a6c8653ad",
   "metadata": {},
   "source": [
    "### movel"
   ]
  },
  {
   "cell_type": "code",
   "execution_count": 4,
   "id": "48959641-3825-402a-a8b1-f4ba45af3c0f",
   "metadata": {},
   "source": [
    "pos = indy.get_control_state()['p']\n",
    "\n",
    "indy.movel(ttarget=pos)"
   ],
   "outputs": []
  },
  {
   "cell_type": "code",
   "execution_count": 36,
   "id": "69128d47-1144-4c38-910a-142ddb512308",
   "metadata": {},
   "source": [
    "from neuromeka import TaskBaseType\n",
    "\n",
    "pos = [100, 0, 0, 0, 0, 0]\n",
    "indy.movel(ttarget=pos, base_type=TaskBaseType.RELATIVE)"
   ],
   "outputs": []
  },
  {
   "cell_type": "code",
   "execution_count": null,
   "id": "b73d9599-4e91-4527-ac3a-a89f0cbfefad",
   "metadata": {},
   "source": [
    "pos = [100, 0, 0, 0, 0, 0]\n",
    "indy.movel(ttarget=pos, base_type=TaskBaseType.TCP)"
   ],
   "outputs": []
  },
  {
   "cell_type": "markdown",
   "id": "8b91972e-9d0f-4a15-8999-29aa393096a4",
   "metadata": {},
   "source": [
    "### movel_time"
   ]
  },
  {
   "cell_type": "code",
   "execution_count": 3,
   "id": "7b8e468d-a8a7-4f69-bf27-5c5fbad8a23d",
   "metadata": {},
   "source": [
    "pos = indy.get_control_state()['p']\n",
    "pos[0] += 100\n",
    "\n",
    "indy.movel_time(ttarget=pos, move_time=3)"
   ],
   "outputs": []
  },
  {
   "cell_type": "markdown",
   "id": "e2ef5fba-02bc-4e56-b6f5-91a7c501bdcf",
   "metadata": {},
   "source": [
    "### MoveC"
   ]
  },
  {
   "cell_type": "code",
   "execution_count": 130,
   "id": "6c8fd7ae-2f42-48fc-aacc-7adce6c52e64",
   "metadata": {},
   "source": [
    "start_pos = [400.83, -61.27, 647.45, 0.07, 179.96, 8.78]\n",
    "indy.movel(ttarget=start_pos)\n",
    "\n",
    "via_point = [241.66, -51.11, 644.20, 0.0, 180.0, 23.36]\n",
    "end_point = [401.53, -47.74, 647.50, 0.0, 180.0, 23.37]\n",
    "indy.movec(tpos0=via_point, tpos1=end_point, angle=720)"
   ],
   "outputs": []
  },
  {
   "cell_type": "markdown",
   "id": "b6363188-2c8d-47d0-a90b-8a1c9e805dde",
   "metadata": {},
   "source": [
    "### Async move: Override and Duplicate"
   ]
  },
  {
   "cell_type": "code",
   "execution_count": 118,
   "id": "c0a8b27a-4896-4f14-851a-34d7eb598047",
   "metadata": {},
   "source": [
    "from neuromeka import BlendingType\n",
    "import time\n",
    "\n",
    "target_pos1 = [400, -50, 650, 0, 180, 23]\n",
    "target_pos2 = [300, -50, 650, 0, 180, 23]\n",
    "target_pos3 = [300, -50, 550, 0, 180, 23]\n",
    "target_pos4 = [400, -50, 550, 0, 180, 23]\n",
    "target_pos5 = [400, -50, 650, 0, 180, 23]\n",
    "\n",
    "indy.movel(target_pos1)\n",
    "time.sleep(1)\n",
    "\n",
    "indy.movel(target_pos2)\n",
    "indy.movel(target_pos3)"
   ],
   "outputs": []
  },
  {
   "cell_type": "code",
   "execution_count": 124,
   "id": "e9398b74-d4fa-4aa8-847e-634d87bc0e3d",
   "metadata": {},
   "source": [
    "indy.movel(target_pos1)\n",
    "time.sleep(1)\n",
    "\n",
    "indy.movel(target_pos2, blending_type=BlendingType.DUPLICATE)\n",
    "time.sleep(0.5)\n",
    "indy.movel(target_pos3)"
   ],
   "outputs": []
  },
  {
   "cell_type": "code",
   "execution_count": 122,
   "id": "460c167d-a4dd-4b43-ab25-9f3c7f63aee4",
   "metadata": {},
   "source": [
    "indy.movel(target_pos1)\n",
    "time.sleep(1)\n",
    "\n",
    "indy.movel(target_pos2, blending_type=BlendingType.OVERRIDE)\n",
    "time.sleep(0.5)\n",
    "indy.movel(target_pos3)"
   ],
   "outputs": []
  },
  {
   "cell_type": "markdown",
   "id": "6fc64ba0-bf3d-4d88-a40f-f28d8f872bc0",
   "metadata": {},
   "source": [
    "## Teleoperation"
   ]
  },
  {
   "cell_type": "code",
   "execution_count": 2,
   "id": "df235073-5c5f-478a-97c1-988b1099a1c6",
   "metadata": {},
   "source": [
    "from neuromeka import JointTeleopType"
   ],
   "outputs": []
  },
  {
   "cell_type": "code",
   "execution_count": 3,
   "id": "c46292bf-ea2a-4304-892c-5d50e7dd511d",
   "metadata": {},
   "source": [
    "indy.start_teleop(method=JointTeleopType.ABSOLUTE)"
   ],
   "outputs": []
  },
  {
   "cell_type": "code",
   "execution_count": 112,
   "id": "7493f6f9-bf15-4444-9093-f3aa3f2e6377",
   "metadata": {},
   "source": [
    "indy.stop_teleop()"
   ],
   "outputs": []
  },
  {
   "cell_type": "code",
   "execution_count": 113,
   "id": "d37cca59-bf57-4610-abf4-a84c06ba3713",
   "metadata": {},
   "source": [
    "indy.start_teleop(method=JointTeleopType.RELATIVE)"
   ],
   "outputs": []
  },
  {
   "cell_type": "code",
   "execution_count": 114,
   "id": "8709f24c-a5f7-4908-b61d-61f09d93ca1d",
   "metadata": {},
   "source": [
    "x_inc = 5"
   ],
   "outputs": []
  },
  {
   "cell_type": "code",
   "execution_count": 130,
   "id": "1764e9b0-c6ea-4fb7-af58-276cb3807893",
   "metadata": {
    "scrolled": true
   },
   "source": [
    "x_inc += 5\n",
    "indy.movetelej_rel(jpos=[x_inc, 0, 0, 0, 0, 0], vel_ratio=1.0, acc_ratio=1.0)\n"
   ],
   "outputs": []
  },
  {
   "cell_type": "code",
   "execution_count": 131,
   "id": "9810e996-4790-4954-b1b3-4eafc8b4505c",
   "metadata": {},
   "source": [
    "indy.stop_teleop()"
   ],
   "outputs": []
  },
  {
   "cell_type": "markdown",
   "id": "c1ee2432-741a-42f8-a95f-340c84d6124f",
   "metadata": {},
   "source": [
    "## Inverse Kinematics and Simulation mode"
   ]
  },
  {
   "cell_type": "code",
   "execution_count": 156,
   "id": "3a6aa80f-aa77-4869-a9ad-4cb17a8a3d88",
   "metadata": {},
   "source": [
    "indy.get_control_data()['p']"
   ],
   "outputs": []
  },
  {
   "cell_type": "code",
   "execution_count": 157,
   "id": "42382ef8-ded1-4eb6-bbf7-e7a1892a151f",
   "metadata": {},
   "source": [
    "tpos = indy.get_control_data()['p']\n",
    "init_jpos = indy.get_control_data()['q']\n",
    "\n",
    "print(\"Current tpos\", tpos)\n",
    "print(\"Current jpos\", init_jpos)\n",
    "\n",
    "indy.inverse_kin(tpos, init_jpos)"
   ],
   "outputs": []
  },
  {
   "cell_type": "code",
   "execution_count": 88,
   "id": "168e8b6f-5e48-40f4-9012-609b0b7d67ba",
   "metadata": {},
   "source": [
    "indy.set_direct_teaching(False)"
   ],
   "outputs": []
  },
  {
   "cell_type": "code",
   "execution_count": null,
   "id": "324702a8-b75e-4833-beb5-8ea2d0be6002",
   "metadata": {},
   "source": [],
   "outputs": []
  },
  {
   "cell_type": "markdown",
   "id": "e8c348d6-5c1f-4bdb-be61-9b816adfbd49",
   "metadata": {},
   "source": [
    "### Calculate relative pose"
   ]
  },
  {
   "cell_type": "code",
   "execution_count": 44,
   "id": "60b5cfb9-1a45-4e8c-99e4-62834146d109",
   "metadata": {},
   "source": [
    "tpos1 = [200.41444, 368.4608, 616.946, 150.90015, -1.0546277, 30.016459]\n",
    "tpos2 = [333.41444, 368.4608, 616.946, 179.90015, -1.0546277, 30.016459]\n",
    "\n",
    "indy.calculate_relative_pose(start_pos=tpos1, end_pos=tpos2)"
   ],
   "outputs": []
  },
  {
   "cell_type": "code",
   "execution_count": 45,
   "id": "e62d803f-bc1b-44af-ae4c-fdf8433fb555",
   "metadata": {},
   "source": [
    "tpos3 = [132.99998, 0.0, 0.0, 25.69598, 13.915254, 3.7340522]"
   ],
   "outputs": []
  },
  {
   "cell_type": "code",
   "execution_count": 47,
   "id": "0f6f6f4a-7d12-4329-8220-838402e5752a",
   "metadata": {},
   "source": [
    "indy.calculate_current_pose_rel(current_pos=tpos1, relative_pos=tpos3)"
   ],
   "outputs": []
  },
  {
   "cell_type": "markdown",
   "id": "ede6d031-8832-4a84-90f7-8cbccff33224",
   "metadata": {},
   "source": [
    "## Variable"
   ]
  },
  {
   "cell_type": "code",
   "execution_count": 143,
   "id": "3880d2e3-f340-44ac-b67e-d07238376534",
   "metadata": {},
   "source": [
    "# 전체 bool 변수 값 획득\n",
    "val = indy.get_bool_variable()\n",
    "val"
   ],
   "outputs": []
  },
  {
   "cell_type": "code",
   "execution_count": 144,
   "id": "8c93382e-2e63-4bba-96d6-579563aedf1b",
   "metadata": {},
   "source": [
    "# bool 변수 주소 100에 값 True 할당\n",
    "indy.set_bool_variable([{'addr': 100, 'value': True}])\n",
    "# bool 변수 주소 150에 값 False 할당\n",
    "indy.set_bool_variable([{'addr': 150, 'value': False}])"
   ],
   "outputs": []
  },
  {
   "cell_type": "code",
   "execution_count": 145,
   "id": "4b61af29-4814-4b16-8598-acd5ffe0a86d",
   "metadata": {},
   "source": [
    "# 전체 int 변수 값 획득\n",
    "val = indy.get_int_variable()\n",
    "val"
   ],
   "outputs": []
  },
  {
   "cell_type": "code",
   "execution_count": 148,
   "id": "12d52143-393d-4fc1-817d-6a0d4e762df3",
   "metadata": {},
   "source": [
    "# int 변수 주소 10에 값 20 할당\n",
    "indy.set_int_variable([{'addr': 10, 'value': 20}])\n",
    "# int 변수 주소 15에 값 5 할당\n",
    "indy.set_int_variable([{'addr': 15, 'value': 5}])"
   ],
   "outputs": []
  },
  {
   "cell_type": "code",
   "execution_count": 149,
   "id": "ff62a41d-5f49-455b-80d9-2175d61bd4cb",
   "metadata": {},
   "source": [
    "# 전체 float 변수 값 획득\n",
    "val = indy.get_float_variable()\n",
    "val"
   ],
   "outputs": []
  },
  {
   "cell_type": "code",
   "execution_count": 151,
   "id": "d13bb625-7d60-4dc6-98ac-bd797ea194f7",
   "metadata": {},
   "source": [
    "# float 변수 주소 10에 값 -23.3 할당\n",
    "indy.set_float_variable([{'addr': 10, 'value': -23.3}])\n",
    "# float 변수 주소 15에 값 55.12 할당\n",
    "indy.set_float_variable([{'addr': 15, 'value': 55.12}])"
   ],
   "outputs": []
  },
  {
   "cell_type": "code",
   "execution_count": null,
   "id": "52aed4c1-ef90-4230-a639-d219073a9248",
   "metadata": {},
   "source": [],
   "outputs": []
  },
  {
   "cell_type": "code",
   "execution_count": 152,
   "id": "3a7de6fe-9713-403c-9d9f-9f66584ac88c",
   "metadata": {},
   "source": [
    "# 전체 jpos 변수 값 획득\n",
    "val = indy.get_jpos_variable()\n",
    "val"
   ],
   "outputs": []
  },
  {
   "cell_type": "code",
   "execution_count": 153,
   "id": "f66cd946-a97d-4f65-9495-a07b7876f1f0",
   "metadata": {},
   "source": [
    "# jpos 변수 주소 10에 값  [0,0,0,0,0,0] 할당\n",
    "indy.set_jpos_variable([{'addr': 0, 'jpos': [0,0,0,0,0,0]}])\n",
    "# jpos 변수 주소 15에 값 [10,10,10,10,10,10] 할당\n",
    "indy.set_jpos_variable([{'addr': 200, 'jpos': [10,10,10,10,10,10]}])"
   ],
   "outputs": []
  },
  {
   "cell_type": "code",
   "execution_count": 154,
   "id": "a05a19d2-b82c-494e-b2d8-ee1d33ab1a06",
   "metadata": {},
   "source": [
    "# 전체 tpos 변수 값 획득\n",
    "val = indy.get_tpos_variable()\n",
    "val"
   ],
   "outputs": []
  },
  {
   "cell_type": "code",
   "execution_count": 155,
   "id": "f6630b0f-14c5-47f7-9dc1-72828fe94535",
   "metadata": {},
   "source": [
    "# tpos 변수 주소 10에 값 [100,100,200,0,180,0] 할당\n",
    "indy.set_tpos_variable([{'addr': 10, 'tpos': [100,100,200,0,180,0]}])\n",
    "# jpos 변수 주소 20에 값 [100,100,350,0,180,0] 할당\n",
    "indy.set_tpos_variable([{'addr': 20, 'tpos': [100,100,350,0,180,0]}])"
   ],
   "outputs": []
  },
  {
   "cell_type": "code",
   "execution_count": null,
   "id": "64f4e2ff-6947-4506-bab7-c772e4c012e4",
   "metadata": {},
   "source": [],
   "outputs": []
  },
  {
   "cell_type": "code",
   "execution_count": null,
   "id": "9135c1b8-90cc-4d52-9c4c-067dec166bba",
   "metadata": {},
   "source": [],
   "outputs": []
  },
  {
   "cell_type": "markdown",
   "id": "8db7fda9-1040-472f-aa3f-be1b342bd8fd",
   "metadata": {},
   "source": [
    "## Program"
   ]
  },
  {
   "cell_type": "code",
   "execution_count": 85,
   "id": "9d0efa3b-ec2f-46da-873d-1be5cd941442",
   "metadata": {},
   "source": [
    "indy.play_program(prog_idx=3)"
   ],
   "outputs": []
  },
  {
   "cell_type": "code",
   "execution_count": 89,
   "id": "59577a8e-c938-4851-b381-049aed454182",
   "metadata": {},
   "source": [
    "indy.play_program(prog_name='t555.indy7v2.json')"
   ],
   "outputs": []
  },
  {
   "cell_type": "code",
   "execution_count": 86,
   "id": "140271f7-817d-4642-bbbb-7ce817ba0f11",
   "metadata": {},
   "source": [
    "indy.pause_program()"
   ],
   "outputs": []
  },
  {
   "cell_type": "code",
   "execution_count": 7,
   "id": "d0e6c16a-a209-4bac-bec6-65bc97dc238a",
   "metadata": {},
   "source": [
    "indy.resume_program()"
   ],
   "outputs": []
  },
  {
   "cell_type": "code",
   "execution_count": 87,
   "id": "ac38dddb-cccc-4351-8443-d049c7eb8051",
   "metadata": {},
   "source": [
    "indy.stop_program()"
   ],
   "outputs": []
  },
  {
   "cell_type": "code",
   "execution_count": 90,
   "id": "4c219aef-fe9a-4540-92a3-355a5fb3f2f0",
   "metadata": {},
   "source": [
    "indy.set_speed_ratio(10)"
   ],
   "outputs": []
  },
  {
   "cell_type": "code",
   "execution_count": 91,
   "id": "e31dab8e-9dca-4d48-85ff-87b1701bbab7",
   "metadata": {},
   "source": [
    "indy.set_speed_ratio(100)"
   ],
   "outputs": []
  },
  {
   "cell_type": "code",
   "execution_count": null,
   "id": "a47b7903-81cf-4a1c-baef-c91d64c57466",
   "metadata": {},
   "source": [],
   "outputs": []
  },
  {
   "cell_type": "markdown",
   "id": "f2d4ad2a-d790-4f3d-8282-55029173491c",
   "metadata": {},
   "source": [
    "## Configuration"
   ]
  },
  {
   "cell_type": "code",
   "execution_count": 2,
   "id": "cf6e0561-cce4-47a0-9408-c9b6dcd4cee2",
   "metadata": {},
   "source": [
    "indy.get_home_pos()"
   ],
   "outputs": []
  },
  {
   "cell_type": "code",
   "execution_count": 20,
   "id": "d36d05f5-5c99-4790-841e-d92196d9225c",
   "metadata": {},
   "source": [
    "indy.set_home_pos([-150, 5.0, 90.0, 0.0, 85.0, 0.0])"
   ],
   "outputs": []
  },
  {
   "cell_type": "code",
   "execution_count": 25,
   "id": "43aeef8e-b771-493f-b700-bebef23c8f6c",
   "metadata": {},
   "source": [
    "indy.get_ref_frame()"
   ],
   "outputs": []
  },
  {
   "cell_type": "code",
   "execution_count": 27,
   "id": "8488474e-ba68-45f1-a158-93a6a080a396",
   "metadata": {},
   "source": [
    "indy.set_ref_frame([0.0, 0.0, 0.0, 0.0, 0.0, 0.0])"
   ],
   "outputs": []
  },
  {
   "cell_type": "code",
   "execution_count": null,
   "id": "4a35908f-efe0-4655-9bca-a9c5def3d521",
   "metadata": {},
   "source": [
    "indy.get_ref_frame()"
   ],
   "outputs": []
  },
  {
   "cell_type": "code",
   "execution_count": null,
   "id": "d10a068c-156c-4381-87a1-39120387a079",
   "metadata": {},
   "source": [],
   "outputs": []
  },
  {
   "cell_type": "code",
   "execution_count": 13,
   "id": "1def6b5d-0542-4fe6-ab12-cf89e34d9ad1",
   "metadata": {},
   "source": [
    "indy.get_friction_comp()"
   ],
   "outputs": []
  },
  {
   "cell_type": "code",
   "execution_count": 14,
   "id": "5a0025f9-cac5-45a0-ba24-9b3c341addbd",
   "metadata": {},
   "source": [
    "indy.get_tool_property()"
   ],
   "outputs": []
  },
  {
   "cell_type": "code",
   "execution_count": 15,
   "id": "4530f422-9146-438a-9738-ad8c97a7d6d3",
   "metadata": {},
   "source": [
    "indy.get_coll_sens_level()"
   ],
   "outputs": []
  },
  {
   "cell_type": "code",
   "execution_count": 16,
   "id": "b8a0d4e6-e3a9-4e81-be08-1fe9a4784040",
   "metadata": {},
   "source": [
    "indy.get_coll_sens_param()"
   ],
   "outputs": []
  },
  {
   "cell_type": "code",
   "execution_count": 17,
   "id": "ece6e0a9-f0a5-4332-9227-eeb4db73aacc",
   "metadata": {},
   "source": [
    "indy.get_coll_policy()"
   ],
   "outputs": []
  },
  {
   "cell_type": "code",
   "execution_count": 18,
   "id": "4316f92d-ad20-4bf9-87ec-94a3f820ddc7",
   "metadata": {},
   "source": [
    "indy.get_safety_limits()"
   ],
   "outputs": []
  },
  {
   "cell_type": "code",
   "execution_count": null,
   "id": "77c11cbf-5ffc-44a6-92aa-40c11c2735c7",
   "metadata": {},
   "source": [
    "indy.set_safety_limits()"
   ],
   "outputs": []
  },
  {
   "cell_type": "code",
   "execution_count": null,
   "id": "7851c565-f611-470a-bd0b-20028b61c44d",
   "metadata": {},
   "source": [
    "indy.get_coll_policy()"
   ],
   "outputs": []
  },
  {
   "cell_type": "code",
   "execution_count": null,
   "id": "df6baeb4-16b6-4a83-99f7-1cde95f8a915",
   "metadata": {},
   "source": [],
   "outputs": []
  },
  {
   "cell_type": "markdown",
   "id": "6cf8f85c-ea60-4762-9e51-6f1b1f8f4885",
   "metadata": {},
   "source": [
    "## IndySDK related"
   ]
  },
  {
   "cell_type": "code",
   "execution_count": null,
   "id": "e43f75d1-2e0c-4d23-99a3-040b776e5cf1",
   "metadata": {},
   "source": [
    "indy.activate_sdk(license_key=\"\", expire_date=\"2024-12-20\")"
   ],
   "outputs": []
  },
  {
   "cell_type": "code",
   "execution_count": 28,
   "id": "e5b59d1d-9d84-4ca0-8b47-5c067cc08672",
   "metadata": {},
   "source": [
    "indy.get_custom_control_mode()"
   ],
   "outputs": []
  },
  {
   "cell_type": "code",
   "execution_count": null,
   "id": "cf751cdb-9f01-40c2-9d80-77d800da3880",
   "metadata": {},
   "source": [],
   "outputs": []
  },
  {
   "cell_type": "markdown",
   "id": "0328bed5-6add-4f2e-b3eb-273eabec16f6",
   "metadata": {},
   "source": [
    "## Data log and plot"
   ]
  },
  {
   "cell_type": "code",
   "execution_count": null,
   "id": "f5987246-4186-46c2-ad3d-351c998acb84",
   "metadata": {},
   "source": [
    "indy.start_log()"
   ],
   "outputs": []
  },
  {
   "cell_type": "code",
   "execution_count": null,
   "id": "36047a98-0a36-4237-bc40-949e36532d71",
   "metadata": {},
   "source": [
    "indy.end_log()"
   ],
   "outputs": []
  }
 ],
 "metadata": {
  "kernelspec": {
   "display_name": "Python 3 (ipykernel)",
   "language": "python",
   "name": "python3"
  },
  "language_info": {
   "codemirror_mode": {
    "name": "ipython",
    "version": 3
   },
   "file_extension": ".py",
   "mimetype": "text/x-python",
   "name": "python",
   "nbconvert_exporter": "python",
   "pygments_lexer": "ipython3",
   "version": "3.8.0"
  }
 },
 "nbformat": 4,
 "nbformat_minor": 5
}
