{
 "cells": [
  {
   "cell_type": "markdown",
   "id": "434bdb3e",
   "metadata": {},
   "source": [
    "# Realtime recording and plot for checking performance"
   ]
  },
  {
   "cell_type": "markdown",
   "id": "8d948ed5",
   "metadata": {},
   "source": [
    "## Import"
   ]
  },
  {
   "cell_type": "code",
   "execution_count": 4,
   "id": "ddaffebf",
   "metadata": {},
   "source": [
    "try:    \n",
    "    # Use installed PyPI package\n",
    "    from neuromeka.common.record_plot import PlotTool\n",
    "except ModuleNotFoundError:\n",
    "    # Use code in local\n",
    "    import sys\n",
    "    sys.path.append(\"../../python\")\n",
    "    from neuromeka.common.record_plot import PlotTool\n",
    "\n",
    "step_ip = \"192.168.5.115\"\n",
    "\n",
    "plot = PlotTool()"
   ],
   "outputs": []
  },
  {
   "cell_type": "markdown",
   "id": "9d949676",
   "metadata": {},
   "source": [
    "## Load data from STEP\n",
    "* record = load_data_6dof(step_ip, file_name)\n",
    "* record = load_data_7dof(step_ip, file_name)"
   ]
  },
  {
   "cell_type": "code",
   "execution_count": 6,
   "id": "f58be7bb",
   "metadata": {},
   "source": [
    "file_name = 'RTRecord.csv'\n",
    "plot.load_data_6dof(\"RTRecord.csv\", step_ip)\n",
    "# plot.load_data_7dof(\"RTRecord.csv\", step_ip)"
   ],
   "outputs": []
  },
  {
   "cell_type": "markdown",
   "id": "17270200",
   "metadata": {},
   "source": [
    "## Plot result\n",
    "* plot_joint(record)\n",
    "* plot_task(record)"
   ]
  },
  {
   "cell_type": "code",
   "execution_count": 11,
   "id": "39ccd380-d070-491c-8509-f4464f169467",
   "metadata": {},
   "source": [
    "plot.plot_robot_path()"
   ],
   "outputs": []
  },
  {
   "cell_type": "code",
   "execution_count": 12,
   "id": "c7f8ff91-c04b-4937-83df-fbb22bd2b160",
   "metadata": {},
   "source": [
    "plot.plot_robot_and_desired_path()"
   ],
   "outputs": []
  },
  {
   "cell_type": "code",
   "execution_count": 13,
   "id": "33e85ed1-e068-4314-8a2d-a3131da118ec",
   "metadata": {},
   "source": [
    "plot.plot_robot_and_desired_force()"
   ],
   "outputs": []
  },
  {
   "cell_type": "code",
   "execution_count": 10,
   "id": "ebd0aed0",
   "metadata": {},
   "source": [
    "plot.plot_joint_pos(\"deg\")"
   ],
   "outputs": []
  },
  {
   "cell_type": "code",
   "execution_count": 14,
   "id": "d4b9a794",
   "metadata": {},
   "source": [
    "plot.plot_joint_vel()"
   ],
   "outputs": []
  },
  {
   "cell_type": "code",
   "execution_count": 15,
   "id": "509a77bd",
   "metadata": {},
   "source": [
    "plot.plot_joint_acc()"
   ],
   "outputs": []
  },
  {
   "cell_type": "code",
   "execution_count": 16,
   "id": "27027f8c-3a66-440e-9a5c-b6bb2fcd6445",
   "metadata": {},
   "source": [
    "plot.plot_jerror()"
   ],
   "outputs": []
  },
  {
   "cell_type": "code",
   "execution_count": 17,
   "id": "a0639c13-32b6-420c-a83e-6e4508db554b",
   "metadata": {},
   "source": [
    "plot.plot_joint_torque()"
   ],
   "outputs": []
  },
  {
   "cell_type": "code",
   "execution_count": 18,
   "id": "f2b8bfe6-7cdb-44b8-9d83-9c3f20ef4b29",
   "metadata": {},
   "source": [
    "data = plot.get_raw_data()"
   ],
   "outputs": []
  },
  {
   "cell_type": "code",
   "execution_count": null,
   "id": "476e0d86-8539-493f-b2ed-e0b545588444",
   "metadata": {},
   "source": [],
   "outputs": []
  },
  {
   "cell_type": "markdown",
   "id": "5881f847",
   "metadata": {},
   "source": [
    "## Max, Min, RMS error"
   ]
  },
  {
   "cell_type": "code",
   "execution_count": null,
   "id": "70257619",
   "metadata": {},
   "source": [],
   "outputs": []
  },
  {
   "cell_type": "code",
   "execution_count": null,
   "id": "07d0f294",
   "metadata": {},
   "source": [],
   "outputs": []
  },
  {
   "cell_type": "markdown",
   "id": "4bb1cddc",
   "metadata": {},
   "source": [
    "## Manual recording timing"
   ]
  },
  {
   "cell_type": "code",
   "execution_count": 5,
   "id": "c14dcc34",
   "metadata": {},
   "source": [
    "start_log()"
   ],
   "outputs": []
  },
  {
   "cell_type": "code",
   "execution_count": null,
   "id": "ba59a603",
   "metadata": {},
   "source": [
    "end_log()"
   ],
   "outputs": []
  },
  {
   "cell_type": "code",
   "execution_count": null,
   "id": "50014ff0",
   "metadata": {},
   "source": [],
   "outputs": []
  },
  {
   "cell_type": "code",
   "execution_count": null,
   "id": "5872993e",
   "metadata": {},
   "source": [],
   "outputs": []
  }
 ],
 "metadata": {
  "kernelspec": {
   "display_name": "Python 3 (ipykernel)",
   "language": "python",
   "name": "python3"
  },
  "language_info": {
   "codemirror_mode": {
    "name": "ipython",
    "version": 3
   },
   "file_extension": ".py",
   "mimetype": "text/x-python",
   "name": "python",
   "nbconvert_exporter": "python",
   "pygments_lexer": "ipython3",
   "version": "3.8.0"
  }
 },
 "nbformat": 4,
 "nbformat_minor": 5
}
