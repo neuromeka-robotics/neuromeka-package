{
 "cells": [
  {
   "cell_type": "code",
   "execution_count": null,
   "id": "7ef00b2f-f7e3-4eca-ab22-057b45d20bcb",
   "metadata": {},
   "outputs": [],
   "source": [
    "# IndyEyeClient Example\n",
    "import sys\n",
    "\n",
    "from neuromeka import IndyEyeClient\n",
    "from neuromeka.eye import *\n",
    "\n",
    "eye = IndyEyeClient(\"192.168.0.114\")\n",
    "\n",
    "object_dict = eye.get_object_dict()\n",
    "print(object_dict)\n",
    "\n",
    "task_pos = [-344, 209, 710, 179, -179, 179]\n",
    "\n",
    "detect_res = eye.run_command(cmd=EyeCommand.DETECT, cls=0, pose_cmd=task_pos)\n",
    "print(detect_res)\n",
    "\n",
    "pose_obj = eye.detect(0, task_pos, mode=DetectKey.REF_TO_OBJECT)\n",
    "print(pose_obj)"
   ]
  }
 ],
 "metadata": {
  "kernelspec": {
   "display_name": "Python 3 (ipykernel)",
   "language": "python",
   "name": "python3"
  },
  "language_info": {
   "codemirror_mode": {
    "name": "ipython",
    "version": 3
   },
   "file_extension": ".py",
   "mimetype": "text/x-python",
   "name": "python",
   "nbconvert_exporter": "python",
   "pygments_lexer": "ipython3",
   "version": "3.8.0"
  }
 },
 "nbformat": 4,
 "nbformat_minor": 5
}
