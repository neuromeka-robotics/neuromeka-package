{
 "cells": [
  {
   "cell_type": "markdown",
   "id": "ff657835",
   "metadata": {},
   "source": [
    "## Import ecat client and object"
   ]
  },
  {
   "cell_type": "code",
   "execution_count": null,
   "id": "c780f6c8",
   "metadata": {},
   "outputs": [],
   "source": [
    "try:    \n",
    "    # Use installed PyPI package\n",
    "    from neuromeka import EtherCAT\n",
    "except ModuleNotFoundError:\n",
    "    # Use code in local\n",
    "    import sys\n",
    "    sys.path.append(\"../../python\")    \n",
    "    from neuromeka import EtherCAT\n",
    "\n",
    "\n",
    "ip = '192.168.6.163'\n",
    "ecat = EtherCAT(ip)"
   ]
  },
  {
   "cell_type": "markdown",
   "id": "ced4cc4e",
   "metadata": {},
   "source": [
    "## Get EtherCAT status"
   ]
  },
  {
   "cell_type": "code",
   "execution_count": null,
   "id": "f0222498",
   "metadata": {},
   "outputs": [],
   "source": [
    "print(\"Master status: \", ecat.get_master_status())\n",
    "print(\"Slave status: \", ecat.get_slave_status())\n",
    "print(\"TxPDO domain: \", ecat.get_txdomain_status())\n",
    "print(\"RxPDO domain: \", ecat.get_rxdomain_status())\n",
    "print(\"System ready: \", ecat.is_system_ready())\n",
    "print(\"Servo state: \", ecat.is_servo_on())\n",
    "print(\"\")\n",
    "print(ecat.get_slave_type_num())\n",
    "num_servo = ecat.get_slave_type_num().num_servo"
   ]
  },
  {
   "cell_type": "markdown",
   "id": "b27c492a",
   "metadata": {},
   "source": [
    "## Servo on and off\n",
    "* ecat.set_servo(servo_idx, on)"
   ]
  },
  {
   "cell_type": "code",
   "execution_count": null,
   "id": "122c1997",
   "metadata": {},
   "outputs": [],
   "source": [
    "ecat.set_servo(0, True)\n",
    "ecat.set_servo(1, True)\n",
    "ecat.set_servo(2, True)\n",
    "ecat.set_servo(3, True)\n",
    "ecat.set_servo(4, True)\n",
    "ecat.set_servo(5, True)\n"
   ]
  },
  {
   "cell_type": "code",
   "execution_count": null,
   "id": "be2a01e0",
   "metadata": {},
   "outputs": [],
   "source": [
    "ecat.set_servo(0, False)\n",
    "ecat.set_servo(1, False)\n",
    "ecat.set_servo(2, False)\n",
    "ecat.set_servo(3, False)\n",
    "ecat.set_servo(4, False)\n",
    "ecat.set_servo(5, False)\n"
   ]
  },
  {
   "cell_type": "markdown",
   "id": "842c781f",
   "metadata": {},
   "source": [
    "## Get/Set Servo data"
   ]
  },
  {
   "cell_type": "code",
   "execution_count": null,
   "id": "cc8f4888",
   "metadata": {},
   "outputs": [],
   "source": [
    "print('Tx PDO')\n",
    "for i in range(0, 6):\n",
    "    print(ecat.get_servo_tx(i))\n",
    "\n",
    "print('Rx PDO')\n",
    "for i in range(0, 6):\n",
    "    print(ecat.get_servo_rx(i))\n"
   ]
  },
  {
   "cell_type": "code",
   "execution_count": null,
   "id": "8cb040cd",
   "metadata": {},
   "outputs": [],
   "source": [
    "print(ecat.get_servo_tx(6))"
   ]
  },
  {
   "cell_type": "code",
   "execution_count": null,
   "id": "24fb91d4",
   "metadata": {},
   "outputs": [],
   "source": [
    "ecat.set_servo_rx(0, 15, 10, 0, 0, 2)"
   ]
  },
  {
   "cell_type": "code",
   "execution_count": null,
   "id": "1813885a",
   "metadata": {},
   "outputs": [],
   "source": [
    "ecat.set_servo_rx(0, 15, 10, 0, 0, 0)"
   ]
  },
  {
   "cell_type": "markdown",
   "id": "93657f29",
   "metadata": {},
   "source": [
    "## Get/Set Servo SDO \n",
    "* servo's temperature (Neuromeka CORE, Welcon)\n",
    "* CORE's error code"
   ]
  },
  {
   "cell_type": "code",
   "execution_count": null,
   "id": "29a5a264",
   "metadata": {},
   "outputs": [],
   "source": [
    "print(\"Temperature\")    \n",
    "for i in range(0,6):\n",
    "    print(i, ecat.get_servo_temperature(i))\n",
    "    \n",
    "print(\"Error code\")    \n",
    "for i in range(0,6):    \n",
    "    print(i, hex(ecat.get_servo_errorcode(i)))"
   ]
  },
  {
   "cell_type": "code",
   "execution_count": null,
   "id": "e071a25c",
   "metadata": {},
   "outputs": [],
   "source": [
    "ecat.set_brake(1, True)"
   ]
  },
  {
   "cell_type": "code",
   "execution_count": null,
   "id": "ae194b79",
   "metadata": {},
   "outputs": [],
   "source": [
    "ecat.set_brake(1, False)"
   ]
  },
  {
   "cell_type": "markdown",
   "id": "42783f54",
   "metadata": {},
   "source": [
    "## Get/Set Endtool PDO"
   ]
  },
  {
   "cell_type": "code",
   "execution_count": null,
   "id": "7d38f942",
   "metadata": {},
   "outputs": [],
   "source": [
    "print(ecat.get_endtool_tx())"
   ]
  },
  {
   "cell_type": "code",
   "execution_count": null,
   "id": "0494d72e",
   "metadata": {},
   "outputs": [],
   "source": [
    "ecat.get_endtool_rx()"
   ]
  },
  {
   "cell_type": "code",
   "execution_count": null,
   "id": "8dc81177",
   "metadata": {},
   "outputs": [],
   "source": [
    "endtool_rx = ecat.get_endtool_rx()\n",
    "print(endtool_rx)\n",
    "endtool_rx[\"led_mode\"] = 6\n",
    "endtool_rx[\"led_r\"] = 20\n",
    "endtool_rx[\"led_g\"] = 200\n",
    "endtool_rx[\"led_b\"] = 0\n",
    "print(endtool_rx)\n",
    "ecat.set_endtool_rx(endtool_rx)"
   ]
  },
  {
   "cell_type": "markdown",
   "id": "de04950b",
   "metadata": {},
   "source": [
    "## Get/Set IO board PDO"
   ]
  },
  {
   "cell_type": "code",
   "execution_count": null,
   "id": "2da17387",
   "metadata": {},
   "outputs": [],
   "source": []
  },
  {
   "cell_type": "code",
   "execution_count": null,
   "id": "e948387e",
   "metadata": {},
   "outputs": [],
   "source": []
  },
  {
   "cell_type": "code",
   "execution_count": null,
   "id": "5a3cba42",
   "metadata": {},
   "outputs": [],
   "source": []
  },
  {
   "cell_type": "markdown",
   "id": "439c602a",
   "metadata": {},
   "source": [
    "## Get/Set DIO PDO\n",
    "* EL1008: DI 8ch\n",
    "* EL2008: DO 8ch\n",
    "* EtherCAT connection order\n",
    "```\n",
    "\"Slaves\": [\n",
    "    {\"index\": 0, \"vendor\": \"Beckhoff\",\"product\": \"EK1100\", \"dc_mode\":  false, \"type\": \"junction\"},\n",
    "    {\"index\": 1, \"vendor\": \"Beckhoff\",\"product\": \"EL1008\", \"dc_mode\":  false, \"type\": \"dio\"},\n",
    "    {\"index\": 2, \"vendor\": \"Beckhoff\",\"product\": \"EL1008\", \"dc_mode\":  false, \"type\": \"dio\"},\n",
    "    {\"index\": 3, \"vendor\": \"Beckhoff\",\"product\": \"EL2008\", \"dc_mode\":  false, \"type\": \"dio\"},\n",
    "    {\"index\": 4, \"vendor\": \"Beckhoff\",\"product\": \"EL2008\", \"dc_mode\":  false, \"type\": \"dio\"},\n",
    "    {\"index\": 5, \"vendor\": \"Panasonic\",\"product\": \"Driver200W\", \"dc_mode\":  true, \"type\": \"servo\", \"auto_servo\": true, \"init_mode\":  \"CST\"},\n",
    "    {\"index\": 6, \"vendor\": \"Panasonic\",\"product\": \"Driver200W\", \"dc_mode\":  true, \"type\": \"servo\", \"auto_servo\": true, \"init_mode\":  \"CST\"}\n",
    "  ]\n",
    "  ```\n",
    "* Type: servo, ioboard, endtool, dio\n",
    "* DIO index: EL1008 (0), EL1008 (1), EL2008 (2), EL2008 (3)"
   ]
  },
  {
   "cell_type": "code",
   "execution_count": null,
   "id": "f73acbd2",
   "metadata": {},
   "outputs": [],
   "source": [
    "ecat.get_di(0)"
   ]
  },
  {
   "cell_type": "code",
   "execution_count": null,
   "id": "ed76f295",
   "metadata": {
    "scrolled": true
   },
   "outputs": [],
   "source": [
    "ecat.get_di(1)"
   ]
  },
  {
   "cell_type": "code",
   "execution_count": null,
   "id": "2c63e18a",
   "metadata": {
    "scrolled": true
   },
   "outputs": [],
   "source": [
    "ecat.get_do(2)"
   ]
  },
  {
   "cell_type": "code",
   "execution_count": null,
   "id": "d527ba29",
   "metadata": {},
   "outputs": [],
   "source": [
    "ecat.get_do(2)"
   ]
  },
  {
   "cell_type": "code",
   "execution_count": null,
   "id": "7c97b8d5",
   "metadata": {},
   "outputs": [],
   "source": [
    "do_list1 = [0, 0, 0, 0, 0, 0, 0, 0, 0, 0, 0, 0, 0, 0, 0, 0, 0, 0, 0, 0]\n",
    "ecat.set_do(2, do_list1)"
   ]
  },
  {
   "cell_type": "code",
   "execution_count": null,
   "id": "7a1687d3",
   "metadata": {},
   "outputs": [],
   "source": []
  },
  {
   "cell_type": "code",
   "execution_count": null,
   "id": "fa575d9f",
   "metadata": {},
   "outputs": [],
   "source": []
  }
 ],
 "metadata": {
  "kernelspec": {
   "display_name": "Python 3 (ipykernel)",
   "language": "python",
   "name": "python3"
  },
  "language_info": {
   "codemirror_mode": {
    "name": "ipython",
    "version": 3
   },
   "file_extension": ".py",
   "mimetype": "text/x-python",
   "name": "python",
   "nbconvert_exporter": "python",
   "pygments_lexer": "ipython3",
   "version": "3.8.0"
  },
  "pycharm": {
   "stem_cell": {
    "cell_type": "raw",
    "metadata": {
     "collapsed": false
    },
    "source": []
   }
  }
 },
 "nbformat": 4,
 "nbformat_minor": 5
}
